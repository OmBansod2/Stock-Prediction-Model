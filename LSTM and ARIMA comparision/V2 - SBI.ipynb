{
 "cells": [
  {
   "cell_type": "code",
   "execution_count": 2,
   "id": "911a4cca-906a-40ac-94f8-8507c00686ba",
   "metadata": {},
   "outputs": [],
   "source": [
    "#Importing the libraries\n",
    "from nsepy import get_history as gh\n",
    "import datetime as dt\n",
    "from matplotlib import pyplot as plt\n",
    "from sklearn import model_selection\n",
    "from sklearn.metrics import confusion_matrix\n",
    "from sklearn.preprocessing import StandardScaler\n",
    "from sklearn.model_selection import train_test_split\n",
    "import numpy as np\n",
    "import pandas as pd\n",
    "from sklearn.preprocessing import MinMaxScaler\n",
    "from keras.models import Sequential\n",
    "from keras.layers import Dense\n",
    "from keras.layers import LSTM\n",
    "from keras.layers import Dropout\n",
    "from pmdarima import auto_arima \n",
    "import warnings \n",
    "from statsmodels.tsa.seasonal import seasonal_decompose \n",
    "from statsmodels.tsa.statespace.sarimax import SARIMAX \n"
   ]
  },
  {
   "cell_type": "code",
   "execution_count": 3,
   "id": "2d185cee-4deb-406a-bf5a-9eff8f19df08",
   "metadata": {},
   "outputs": [],
   "source": [
    "import yfinance as yf"
   ]
  },
  {
   "cell_type": "code",
   "execution_count": 4,
   "id": "6f82f59b-a59b-498f-8cdf-a92e31f461ba",
   "metadata": {},
   "outputs": [
    {
     "name": "stderr",
     "output_type": "stream",
     "text": [
      "C:\\Users\\Om Pc\\AppData\\Local\\Programs\\Python\\Python310\\lib\\site-packages\\yfinance\\utils.py:775: FutureWarning: The 'unit' keyword in TimedeltaIndex construction is deprecated and will be removed in a future version. Use pd.to_timedelta instead.\n",
      "  df.index += _pd.TimedeltaIndex(dst_error_hours, 'h')\n",
      "[*********************100%%**********************]  1 of 1 completed\n"
     ]
    }
   ],
   "source": [
    "\n",
    "ticker = \"SBIN.NS\" # Assuming 'SBIN' is a stock listed on the NSE\n",
    "start = dt.datetime(2013, 1, 1)\n",
    "end = dt.datetime(2019, 12, 31)\n",
    "\n",
    "# Download the historical stock prices\n",
    "data = yf.download(ticker, start=start, end=end)"
   ]
  },
  {
   "cell_type": "code",
   "execution_count": 5,
   "id": "baf2326a-9ad8-4a72-8b1d-504231db97e7",
   "metadata": {},
   "outputs": [],
   "source": [
    "#print(data)"
   ]
  },
  {
   "cell_type": "code",
   "execution_count": 6,
   "id": "59cef01b-4bd2-46c6-b380-c2b8d18cae7f",
   "metadata": {},
   "outputs": [],
   "source": [
    "#Data Preprocessing\n",
    "data['Date'] = data.index\n",
    "data2 = pd.DataFrame(columns = ['Date', 'Open', 'High', 'Low', 'Close'])\n",
    "data2['Date'] = data['Date']\n",
    "data2['Open'] = data['Open']\n",
    "data2['High'] = data['High']\n",
    "data2['Low'] = data['Low']\n",
    "data2['Close'] = data['Close']"
   ]
  },
  {
   "cell_type": "code",
   "execution_count": 7,
   "id": "0d3ac4b4-c7e1-4056-b77d-4d436b654532",
   "metadata": {},
   "outputs": [],
   "source": [
    "#print(data2)"
   ]
  },
  {
   "cell_type": "code",
   "execution_count": 8,
   "id": "19c22faa-0fac-45ab-ab0d-f4db349623bb",
   "metadata": {},
   "outputs": [],
   "source": [
    "#####################ARIMA###############################\n",
    "# Ignore harmless warnings \n",
    "warnings.filterwarnings(\"ignore\") \n"
   ]
  },
  {
   "cell_type": "code",
   "execution_count": 9,
   "id": "02d3c118-ec13-4f12-bf2d-dd1d37e0f3b9",
   "metadata": {
    "scrolled": true
   },
   "outputs": [
    {
     "name": "stdout",
     "output_type": "stream",
     "text": [
      "Performing stepwise search to minimize aic\n",
      " ARIMA(1,0,1)(0,1,1)[12] intercept   : AIC=inf, Time=13.73 sec\n",
      " ARIMA(0,0,0)(0,1,0)[12] intercept   : AIC=14833.485, Time=0.16 sec\n",
      " ARIMA(1,0,0)(1,1,0)[12] intercept   : AIC=11247.990, Time=3.15 sec\n",
      " ARIMA(0,0,1)(0,1,1)[12] intercept   : AIC=13265.818, Time=6.13 sec\n",
      " ARIMA(0,0,0)(0,1,0)[12]             : AIC=14833.180, Time=0.16 sec\n",
      " ARIMA(1,0,0)(0,1,0)[12] intercept   : AIC=11668.958, Time=0.53 sec\n",
      " ARIMA(1,0,0)(2,1,0)[12] intercept   : AIC=11099.621, Time=15.68 sec\n",
      " ARIMA(1,0,0)(2,1,1)[12] intercept   : AIC=inf, Time=39.60 sec\n",
      " ARIMA(1,0,0)(1,1,1)[12] intercept   : AIC=inf, Time=14.54 sec\n",
      " ARIMA(0,0,0)(2,1,0)[12] intercept   : AIC=14831.211, Time=9.70 sec\n",
      " ARIMA(2,0,0)(2,1,0)[12] intercept   : AIC=11095.542, Time=20.15 sec\n",
      " ARIMA(2,0,0)(1,1,0)[12] intercept   : AIC=11242.183, Time=4.91 sec\n",
      " ARIMA(2,0,0)(2,1,1)[12] intercept   : AIC=inf, Time=44.48 sec\n",
      " ARIMA(2,0,0)(1,1,1)[12] intercept   : AIC=inf, Time=10.06 sec\n",
      " ARIMA(3,0,0)(2,1,0)[12] intercept   : AIC=11097.263, Time=24.72 sec\n",
      " ARIMA(2,0,1)(2,1,0)[12] intercept   : AIC=11097.250, Time=33.98 sec\n",
      " ARIMA(1,0,1)(2,1,0)[12] intercept   : AIC=11095.396, Time=20.57 sec\n",
      " ARIMA(1,0,1)(1,1,0)[12] intercept   : AIC=11242.135, Time=4.68 sec\n",
      " ARIMA(1,0,1)(2,1,1)[12] intercept   : AIC=inf, Time=44.29 sec\n",
      " ARIMA(1,0,1)(1,1,1)[12] intercept   : AIC=inf, Time=17.06 sec\n",
      " ARIMA(0,0,1)(2,1,0)[12] intercept   : AIC=13266.409, Time=19.98 sec\n",
      " ARIMA(1,0,2)(2,1,0)[12] intercept   : AIC=11097.246, Time=26.51 sec\n",
      " ARIMA(0,0,2)(2,1,0)[12] intercept   : AIC=12528.537, Time=26.75 sec\n",
      " ARIMA(2,0,2)(2,1,0)[12] intercept   : AIC=11099.341, Time=28.95 sec\n",
      " ARIMA(1,0,1)(2,1,0)[12]             : AIC=11093.506, Time=4.19 sec\n",
      " ARIMA(1,0,1)(1,1,0)[12]             : AIC=11240.238, Time=1.75 sec\n",
      " ARIMA(1,0,1)(2,1,1)[12]             : AIC=inf, Time=36.65 sec\n",
      " ARIMA(1,0,1)(1,1,1)[12]             : AIC=inf, Time=11.99 sec\n",
      " ARIMA(0,0,1)(2,1,0)[12]             : AIC=13266.119, Time=7.13 sec\n",
      " ARIMA(1,0,0)(2,1,0)[12]             : AIC=11097.721, Time=3.36 sec\n",
      " ARIMA(2,0,1)(2,1,0)[12]             : AIC=11095.358, Time=6.94 sec\n",
      " ARIMA(1,0,2)(2,1,0)[12]             : AIC=11095.354, Time=5.43 sec\n",
      " ARIMA(0,0,0)(2,1,0)[12]             : AIC=14831.043, Time=1.70 sec\n",
      " ARIMA(0,0,2)(2,1,0)[12]             : AIC=12528.285, Time=6.17 sec\n",
      " ARIMA(2,0,0)(2,1,0)[12]             : AIC=11093.653, Time=3.57 sec\n",
      " ARIMA(2,0,2)(2,1,0)[12]             : AIC=11097.450, Time=5.36 sec\n",
      "\n",
      "Best model:  ARIMA(1,0,1)(2,1,0)[12]          \n",
      "Total fit time: 524.813 seconds\n"
     ]
    }
   ],
   "source": [
    "# Ignore harmless warnings \n",
    "warnings.filterwarnings(\"ignore\") \n",
    "# Fit auto_arima function to Stock Market Data\n",
    "stepwise_fit = auto_arima(data2['Close'], start_p = 1, start_q = 1, max_p = 3, max_q = 3, m = 12, start_P = 0, seasonal = True, d = None, D = 1, trace = True, error_action ='ignore', suppress_warnings = True, stepwise = True)       "
   ]
  },
  {
   "cell_type": "code",
   "execution_count": 10,
   "id": "e57eef8c-7f3f-4e97-8708-4749bae7b22e",
   "metadata": {},
   "outputs": [
    {
     "name": "stderr",
     "output_type": "stream",
     "text": [
      "[*********************100%%**********************]  1 of 1 completed\n"
     ]
    }
   ],
   "source": [
    "start = dt.datetime(2020, 1, 1)\n",
    "end = dt.datetime(2021, 12, 31)\n",
    "\n",
    "# Download the historical stock prices\n",
    "data6 = yf.download(ticker, start=start, end=end)"
   ]
  },
  {
   "cell_type": "code",
   "execution_count": 14,
   "id": "9a2bd123-29e5-4e9b-82da-2b9bcf104b3b",
   "metadata": {},
   "outputs": [
    {
     "ename": "ValueError",
     "evalue": "Inferred frequency None from passed values does not conform to passed frequency MS",
     "output_type": "error",
     "traceback": [
      "\u001b[1;31m---------------------------------------------------------------------------\u001b[0m",
      "\u001b[1;31mValueError\u001b[0m                                Traceback (most recent call last)",
      "File \u001b[1;32m~\\AppData\\Local\\Programs\\Python\\Python310\\lib\\site-packages\\pandas\\core\\arrays\\datetimelike.py:2122\u001b[0m, in \u001b[0;36mTimelikeOps._validate_frequency\u001b[1;34m(cls, index, freq, **kwargs)\u001b[0m\n\u001b[0;32m   2121\u001b[0m     \u001b[38;5;28;01mif\u001b[39;00m \u001b[38;5;129;01mnot\u001b[39;00m np\u001b[38;5;241m.\u001b[39marray_equal(index\u001b[38;5;241m.\u001b[39masi8, on_freq\u001b[38;5;241m.\u001b[39masi8):\n\u001b[1;32m-> 2122\u001b[0m         \u001b[38;5;28;01mraise\u001b[39;00m \u001b[38;5;167;01mValueError\u001b[39;00m\n\u001b[0;32m   2123\u001b[0m \u001b[38;5;28;01mexcept\u001b[39;00m \u001b[38;5;167;01mValueError\u001b[39;00m \u001b[38;5;28;01mas\u001b[39;00m err:\n",
      "\u001b[1;31mValueError\u001b[0m: ",
      "\nThe above exception was the direct cause of the following exception:\n",
      "\u001b[1;31mValueError\u001b[0m                                Traceback (most recent call last)",
      "Input \u001b[1;32mIn [14]\u001b[0m, in \u001b[0;36m<cell line: 1>\u001b[1;34m()\u001b[0m\n\u001b[1;32m----> 1\u001b[0m data6\u001b[38;5;241m.\u001b[39mindex\u001b[38;5;241m.\u001b[39mfreq\u001b[38;5;241m=\u001b[39m\u001b[38;5;124m'\u001b[39m\u001b[38;5;124mMS\u001b[39m\u001b[38;5;124m'\u001b[39m\n",
      "File \u001b[1;32m~\\AppData\\Local\\Programs\\Python\\Python310\\lib\\site-packages\\pandas\\core\\indexes\\datetimelike.py:106\u001b[0m, in \u001b[0;36mDatetimeIndexOpsMixin.freq\u001b[1;34m(self, value)\u001b[0m\n\u001b[0;32m    103\u001b[0m \u001b[38;5;129m@freq\u001b[39m\u001b[38;5;241m.\u001b[39msetter\n\u001b[0;32m    104\u001b[0m \u001b[38;5;28;01mdef\u001b[39;00m \u001b[38;5;21mfreq\u001b[39m(\u001b[38;5;28mself\u001b[39m, value) \u001b[38;5;241m-\u001b[39m\u001b[38;5;241m>\u001b[39m \u001b[38;5;28;01mNone\u001b[39;00m:\n\u001b[0;32m    105\u001b[0m     \u001b[38;5;66;03m# error: Property \"freq\" defined in \"PeriodArray\" is read-only  [misc]\u001b[39;00m\n\u001b[1;32m--> 106\u001b[0m     \u001b[38;5;28mself\u001b[39m\u001b[38;5;241m.\u001b[39m_data\u001b[38;5;241m.\u001b[39mfreq \u001b[38;5;241m=\u001b[39m value\n",
      "File \u001b[1;32m~\\AppData\\Local\\Programs\\Python\\Python310\\lib\\site-packages\\pandas\\core\\arrays\\datetimelike.py:2052\u001b[0m, in \u001b[0;36mTimelikeOps.freq\u001b[1;34m(self, value)\u001b[0m\n\u001b[0;32m   2050\u001b[0m \u001b[38;5;28;01mif\u001b[39;00m value \u001b[38;5;129;01mis\u001b[39;00m \u001b[38;5;129;01mnot\u001b[39;00m \u001b[38;5;28;01mNone\u001b[39;00m:\n\u001b[0;32m   2051\u001b[0m     value \u001b[38;5;241m=\u001b[39m to_offset(value)\n\u001b[1;32m-> 2052\u001b[0m     \u001b[38;5;28;43mself\u001b[39;49m\u001b[38;5;241;43m.\u001b[39;49m\u001b[43m_validate_frequency\u001b[49m\u001b[43m(\u001b[49m\u001b[38;5;28;43mself\u001b[39;49m\u001b[43m,\u001b[49m\u001b[43m \u001b[49m\u001b[43mvalue\u001b[49m\u001b[43m)\u001b[49m\n\u001b[0;32m   2053\u001b[0m     \u001b[38;5;28;01mif\u001b[39;00m \u001b[38;5;28mself\u001b[39m\u001b[38;5;241m.\u001b[39mdtype\u001b[38;5;241m.\u001b[39mkind \u001b[38;5;241m==\u001b[39m \u001b[38;5;124m\"\u001b[39m\u001b[38;5;124mm\u001b[39m\u001b[38;5;124m\"\u001b[39m \u001b[38;5;129;01mand\u001b[39;00m \u001b[38;5;129;01mnot\u001b[39;00m \u001b[38;5;28misinstance\u001b[39m(value, Tick):\n\u001b[0;32m   2054\u001b[0m         \u001b[38;5;28;01mraise\u001b[39;00m \u001b[38;5;167;01mTypeError\u001b[39;00m(\u001b[38;5;124m\"\u001b[39m\u001b[38;5;124mTimedeltaArray/Index freq must be a Tick\u001b[39m\u001b[38;5;124m\"\u001b[39m)\n",
      "File \u001b[1;32m~\\AppData\\Local\\Programs\\Python\\Python310\\lib\\site-packages\\pandas\\core\\arrays\\datetimelike.py:2133\u001b[0m, in \u001b[0;36mTimelikeOps._validate_frequency\u001b[1;34m(cls, index, freq, **kwargs)\u001b[0m\n\u001b[0;32m   2127\u001b[0m     \u001b[38;5;28;01mraise\u001b[39;00m err\n\u001b[0;32m   2128\u001b[0m \u001b[38;5;66;03m# GH#11587 the main way this is reached is if the `np.array_equal`\u001b[39;00m\n\u001b[0;32m   2129\u001b[0m \u001b[38;5;66;03m#  check above is False.  This can also be reached if index[0]\u001b[39;00m\n\u001b[0;32m   2130\u001b[0m \u001b[38;5;66;03m#  is `NaT`, in which case the call to `cls._generate_range` will\u001b[39;00m\n\u001b[0;32m   2131\u001b[0m \u001b[38;5;66;03m#  raise a ValueError, which we re-raise with a more targeted\u001b[39;00m\n\u001b[0;32m   2132\u001b[0m \u001b[38;5;66;03m#  message.\u001b[39;00m\n\u001b[1;32m-> 2133\u001b[0m \u001b[38;5;28;01mraise\u001b[39;00m \u001b[38;5;167;01mValueError\u001b[39;00m(\n\u001b[0;32m   2134\u001b[0m     \u001b[38;5;124mf\u001b[39m\u001b[38;5;124m\"\u001b[39m\u001b[38;5;124mInferred frequency \u001b[39m\u001b[38;5;132;01m{\u001b[39;00minferred\u001b[38;5;132;01m}\u001b[39;00m\u001b[38;5;124m from passed values \u001b[39m\u001b[38;5;124m\"\u001b[39m\n\u001b[0;32m   2135\u001b[0m     \u001b[38;5;124mf\u001b[39m\u001b[38;5;124m\"\u001b[39m\u001b[38;5;124mdoes not conform to passed frequency \u001b[39m\u001b[38;5;132;01m{\u001b[39;00mfreq\u001b[38;5;241m.\u001b[39mfreqstr\u001b[38;5;132;01m}\u001b[39;00m\u001b[38;5;124m\"\u001b[39m\n\u001b[0;32m   2136\u001b[0m ) \u001b[38;5;28;01mfrom\u001b[39;00m \u001b[38;5;21;01merr\u001b[39;00m\n",
      "\u001b[1;31mValueError\u001b[0m: Inferred frequency None from passed values does not conform to passed frequency MS"
     ]
    }
   ],
   "source": [
    "data6.index.freq='MS'"
   ]
  },
  {
   "cell_type": "code",
   "execution_count": 20,
   "id": "d70ffaf2-decb-4f68-8298-16287f49136a",
   "metadata": {
    "scrolled": true
   },
   "outputs": [
    {
     "data": {
      "image/png": "[encoded data removed]",
      "text/plain": [
       "<Figure size 1080x720 with 4 Axes>"
      ]
     },
     "metadata": {
      "needs_background": "light"
     },
     "output_type": "display_data"
    }
   ],
   "source": [
    "from statsmodels.tsa.seasonal import seasonal_decompose\n",
    "\n",
    "# Fill missing values with linear interpolation\n",
    "data6['Close'] = data6['Close'].interpolate(method='linear')\n",
    "\n",
    "# Perform seasonal decomposition\n",
    "decomposition = seasonal_decompose(data6['Close'], model='additive')\n",
    "\n",
    "# Plot the decomposition\n",
    "fig = decomposition.plot()\n",
    "fig.set_size_inches(15, 10)\n"
   ]
  },
  {
   "cell_type": "code",
   "execution_count": 28,
   "id": "43977a4d-0279-4eef-b8ff-16ae2f2dcbac",
   "metadata": {
    "scrolled": true
   },
   "outputs": [
    {
     "data": {
      "image/png": "[encoded data removed]",
      "text/plain": [
       "<Figure size 432x288 with 1 Axes>"
      ]
     },
     "metadata": {
      "needs_background": "light"
     },
     "output_type": "display_data"
    }
   ],
   "source": [
    "import matplotlib.pyplot as plt\n",
    "\n",
    "plt.plot(data6['Close'])\n",
    "plt.xlabel('Date')\n",
    "plt.ylabel('Close Price')\n",
    "plt.title('Closing Price Over Time')\n",
    "plt.show()\n"
   ]
  },
  {
   "cell_type": "code",
   "execution_count": 29,
   "id": "5501dbcc-abf9-4900-8545-af26075f29a1",
   "metadata": {
    "scrolled": true
   },
   "outputs": [
    {
     "data": {
      "image/png": "[encoded data removed]",
      "text/plain": [
       "<Figure size 432x288 with 1 Axes>"
      ]
     },
     "metadata": {
      "needs_background": "light"
     },
     "output_type": "display_data"
    }
   ],
   "source": [
    "plt.hist(data6['Close'], bins=20)\n",
    "plt.xlabel('Close Price')\n",
    "plt.ylabel('Frequency')\n",
    "plt.title('Histogram of Close Prices')\n",
    "plt.show()\n"
   ]
  },
  {
   "cell_type": "code",
   "execution_count": 30,
   "id": "6fce8572-6f30-4770-995b-fc218ecca7e9",
   "metadata": {
    "scrolled": true
   },
   "outputs": [
    {
     "data": {
      "image/png": "[encoded data removed]",
      "text/plain": [
       "<Figure size 432x288 with 1 Axes>"
      ]
     },
     "metadata": {
      "needs_background": "light"
     },
     "output_type": "display_data"
    }
   ],
   "source": [
    "plt.scatter(data6['Volume'], data6['Close'])\n",
    "plt.xlabel('Volume')\n",
    "plt.ylabel('Close Price')\n",
    "plt.title('Volume vs. Close Price')\n",
    "plt.show()\n"
   ]
  },
  {
   "cell_type": "code",
   "execution_count": 36,
   "id": "31ea337b-d65e-4a67-91b3-4b0e6f5cd1d2",
   "metadata": {
    "scrolled": true
   },
   "outputs": [
    {
     "data": {
      "image/png": "[encoded data removed]",
      "text/plain": [
       "<Figure size 432x288 with 1 Axes>"
      ]
     },
     "metadata": {
      "needs_background": "light"
     },
     "output_type": "display_data"
    }
   ],
   "source": [
    "import seaborn as sns\n",
    "\n",
    "# Extract weekday from the index\n",
    "data6['Weekday'] = data6.index.weekday\n",
    "\n",
    "# Create box plot\n",
    "sns.boxplot(x=data6['Weekday'], y=data6['Close'])\n",
    "plt.xlabel('Weekday')\n",
    "plt.ylabel('Close Price')\n",
    "plt.title('Box Plot of Close Prices by Weekday')\n",
    "plt.show()\n"
   ]
  },
  {
   "cell_type": "code",
   "execution_count": 35,
   "id": "1a8ec2b4-1924-4e6b-bdc8-4c705f8ea9b4",
   "metadata": {},
   "outputs": [
    {
     "data": {
      "image/png": "[encoded data removed]",
      "text/plain": [
       "<Figure size 432x288 with 1 Axes>"
      ]
     },
     "metadata": {
      "needs_background": "light"
     },
     "output_type": "display_data"
    }
   ],
   "source": [
    "data6['Month'] = data6.index.month\n",
    "monthly_mean = data6.groupby('Month')['Close'].mean()\n",
    "\n",
    "plt.bar(monthly_mean.index, monthly_mean.values)\n",
    "plt.xlabel('Month')\n",
    "plt.ylabel('Average Close Price')\n",
    "plt.title('Average Close Price by Month')\n",
    "plt.show()\n"
   ]
  },
  {
   "cell_type": "code",
   "execution_count": 11,
   "id": "fac5a001-d181-465d-a010-22fc4da6ece8",
   "metadata": {},
   "outputs": [],
   "source": [
    "\n",
    "# Split data into train / test sets \n",
    "train = data6.iloc[:len(data6)-60] \n",
    "test = data6.iloc[len(data6)-60:]"
   ]
  },
  {
   "cell_type": "code",
   "execution_count": 22,
   "id": "52fbe38c-0d0e-409a-9878-0f3a55271a15",
   "metadata": {},
   "outputs": [],
   "source": [
    "# Fit a SARIMAX\n",
    "model = SARIMAX(data6['Close'],  order = (0, 1, 1),  seasonal_order =(2, 1, 1, 12)) "
   ]
  },
  {
   "cell_type": "code",
   "execution_count": 23,
   "id": "8fc2dc22-d726-4750-96e5-a2b8917cfc3c",
   "metadata": {},
   "outputs": [],
   "source": [
    "result = model.fit() "
   ]
  },
  {
   "cell_type": "code",
   "execution_count": 24,
   "id": "5f937027-8b0d-4f98-bf6e-91124a88e486",
   "metadata": {},
   "outputs": [
    {
     "name": "stdout",
     "output_type": "stream",
     "text": [
      "<statsmodels.tsa.statespace.sarimax.SARIMAXResultsWrapper object at 0x000001A734AC1330>\n"
     ]
    }
   ],
   "source": [
    "print(result)"
   ]
  },
  {
   "cell_type": "code",
   "execution_count": 25,
   "id": "234a3535-8640-49bf-ad31-85adc311a075",
   "metadata": {},
   "outputs": [],
   "source": [
    "start = len(train) \n",
    "end = len(train) + len(test) - 1"
   ]
  },
  {
   "cell_type": "code",
   "execution_count": 26,
   "id": "3d726207-f9ac-43ad-8f72-77fff8a21352",
   "metadata": {},
   "outputs": [
    {
     "data": {
      "text/plain": [
       "497"
      ]
     },
     "execution_count": 26,
     "metadata": {},
     "output_type": "execute_result"
    }
   ],
   "source": [
    "end"
   ]
  },
  {
   "cell_type": "code",
   "execution_count": 27,
   "id": "deadb59f-e54b-4d21-8bdd-a8561a1965ea",
   "metadata": {},
   "outputs": [],
   "source": [
    "  \n",
    "# Predictions for one-year against the test set \n",
    "predictions = result.predict(start, end, typ = 'levels').rename(\"Predictions\") "
   ]
  },
  {
   "cell_type": "code",
   "execution_count": 28,
   "id": "c42637ed-3ad7-4506-bdd3-eb8a932eeace",
   "metadata": {},
   "outputs": [],
   "source": [
    "#print(predictions)"
   ]
  },
  {
   "cell_type": "code",
   "execution_count": 29,
   "id": "70a5d25c-63c2-4a57-87af-4990543ffb69",
   "metadata": {
    "scrolled": true
   },
   "outputs": [
    {
     "data": {
      "text/plain": [
       "<Axes: xlabel='Date'>"
      ]
     },
     "execution_count": 29,
     "metadata": {},
     "output_type": "execute_result"
    },
    {
     "data": {
      "image/png": "[encoded data removed]",
      "text/plain": [
       "<Figure size 432x288 with 1 Axes>"
      ]
     },
     "metadata": {
      "needs_background": "light"
     },
     "output_type": "display_data"
    }
   ],
   "source": [
    "# plot predictions and actual values \n",
    "predictions.plot(legend = True) \n",
    "test['Close'].plot(legend = True)"
   ]
  },
  {
   "cell_type": "code",
   "execution_count": 51,
   "id": "0bbadc01-f1a8-41d6-950a-ef57228c0143",
   "metadata": {},
   "outputs": [
    {
     "name": "stdout",
     "output_type": "stream",
     "text": [
      "Mean Absolute Error (MAE) for LSTM: 6.623565288171951\n",
      "Mean Squared Error (MSE) for LSTM: 73.98885770218172\n",
      "Root Mean Squared Error (RMSE) for LSTM: 8.601677609756234\n",
      "R-squared (R2) Score for LSTM: 0.857811771051614\n"
     ]
    }
   ],
   "source": [
    "from sklearn.metrics import mean_absolute_error, mean_squared_error, r2_score\n",
    "import numpy as np\n",
    "\n",
    "# Assuming 'actual_values' and 'predicted_values' are lists or arrays of actual and predicted values\n",
    "actual_values = test['Close']\n",
    "predicted_values = predictions\n",
    "\n",
    "mae = mean_absolute_error(actual_values, predicted_values)\n",
    "mse = mean_squared_error(actual_values, predicted_values)\n",
    "rmse = np.sqrt(mse)\n",
    "r2 = r2_score(actual_values, predicted_values)\n",
    "\n",
    "# Calculate accuracy in percentage\n",
    "accuracy_percentage = ((max(actual_values) - mae) / max(actual_values)) * 100\n",
    "\n",
    "print(\"Mean Absolute Error (MAE) for LSTM:\", mae)\n",
    "print(\"Mean Squared Error (MSE) for LSTM:\", mse)\n",
    "print(\"Root Mean Squared Error (RMSE) for LSTM:\", rmse)\n",
    "print(\"R-squared (R2) Score for LSTM:\", r2)\n",
    "# print(\"Accuracy Percentage for ARIMA:\", accuracy_percentage)\n"
   ]
  },
  {
   "cell_type": "code",
   "execution_count": 21,
   "id": "74de8bc0-7388-4595-836c-ae3f1f776eae",
   "metadata": {},
   "outputs": [
    {
     "data": {
      "image/png": "[encoded data removed]",
      "text/plain": [
       "<Figure size 432x288 with 1 Axes>"
      ]
     },
     "metadata": {
      "needs_background": "light"
     },
     "output_type": "display_data"
    }
   ],
   "source": [
    "plt.plot(predictions, marker='o', label='Predictions')\n",
    "plt.plot(test['Close'], marker='x', label='Actual', linestyle='--')\n",
    "plt.legend()\n",
    "plt.xlabel('Date')\n",
    "plt.ylabel('Close Price')\n",
    "plt.title('Predictions vs Actual Close Prices')\n",
    "plt.show()\n"
   ]
  },
  {
   "cell_type": "code",
   "execution_count": 76,
   "id": "308d0eee-60bf-4527-84b3-fff52fcf167f",
   "metadata": {},
   "outputs": [
    {
     "data": {
      "image/png": "[encoded data removed]",
      "text/plain": [
       "<Figure size 720x432 with 1 Axes>"
      ]
     },
     "metadata": {
      "needs_background": "light"
     },
     "output_type": "display_data"
    }
   ],
   "source": [
    "import numpy as np\n",
    "import pandas as pd\n",
    "from statsmodels.tsa.arima.model import ARIMA\n",
    "\n",
    "# Assuming you have already fitted an ARIMA model and have the actual values and predictions\n",
    "# Replace 'actual_values' and 'predicted_values' with your actual and predicted values\n",
    "# Replace 'order' with the order of your ARIMA model\n",
    "\n",
    "# Calculate residuals\n",
    "residuals = test['Close'] - predictions\n",
    "\n",
    "# Plot the residuals\n",
    "plt.figure(figsize=(10, 6))\n",
    "plt.plot(residuals, color='blue')\n",
    "plt.xlabel('Time')\n",
    "plt.ylabel('Residuals')\n",
    "plt.title('Residuals (Noise) from ARIMA Model')\n",
    "plt.grid(True)\n",
    "plt.show()"
   ]
  },
  {
   "cell_type": "code",
   "execution_count": 72,
   "id": "d4d7a86d-02f6-4b8f-b221-80300c50da0b",
   "metadata": {},
   "outputs": [
    {
     "name": "stdout",
     "output_type": "stream",
     "text": [
      "RMSE with ARIMA 8.601677609756234\n"
     ]
    }
   ],
   "source": [
    "from sklearn.metrics import mean_squared_error \n",
    "from statsmodels.tools.eval_measures import rmse \n",
    "\n",
    "# RMSE for ARIMA model\n",
    "err_ARIMA = rmse(test[\"Close\"], predictions) \n",
    "print('RMSE with ARIMA', err_ARIMA)\n"
   ]
  },
  {
   "cell_type": "code",
   "execution_count": 32,
   "id": "6446797b-6773-46bc-b926-c7f16b0bef5d",
   "metadata": {},
   "outputs": [],
   "source": [
    "#############LSTM########################\n",
    "train_set = data2.iloc[0:1333:, 1:2].values\n",
    "sc = MinMaxScaler(feature_range = (0, 1))\n",
    "training_set_scaled = sc.fit_transform(train_set)\n",
    "X_train = []\n",
    "y_train = []\n",
    "for i in range(60, 1333):\n",
    "    X_train.append(training_set_scaled[i-60:i, 0])\n",
    "    y_train.append(training_set_scaled[i, 0]) \n",
    "X_train, y_train = np.array(X_train), np.array(y_train)\n",
    "X_train = np.reshape(X_train, (X_train.shape[0], X_train.shape[1], 1))"
   ]
  },
  {
   "cell_type": "code",
   "execution_count": 33,
   "id": "375e5d5b-87df-4a15-8f3e-af39ae1b2c03",
   "metadata": {},
   "outputs": [],
   "source": [
    "\n",
    "#Defining the LSTM Recurrent Model\n",
    "regressor = Sequential()\n",
    "regressor.add(LSTM(units = 50, return_sequences = True, input_shape = (X_train.shape[1], 1)))\n",
    "regressor.add(Dropout(0.2))\n",
    "regressor.add(LSTM(units = 50, return_sequences = True))\n",
    "regressor.add(Dropout(0.2))\n",
    "regressor.add(LSTM(units = 50, return_sequences = True))\n",
    "regressor.add(Dropout(0.2))\n",
    "regressor.add(LSTM(units = 50))\n",
    "regressor.add(Dropout(0.2))\n",
    "regressor.add(Dense(units = 1))"
   ]
  },
  {
   "cell_type": "code",
   "execution_count": 34,
   "id": "0731f8f4-60d3-48d5-84ce-ae695aeb7236",
   "metadata": {},
   "outputs": [
    {
     "name": "stdout",
     "output_type": "stream",
     "text": [
      "1273\n"
     ]
    }
   ],
   "source": [
    "print(len(X_train))"
   ]
  },
  {
   "cell_type": "code",
   "execution_count": 35,
   "id": "29b75995-b9d0-457e-beb0-801a007dd4be",
   "metadata": {},
   "outputs": [
    {
     "name": "stdout",
     "output_type": "stream",
     "text": [
      "Epoch 1/40\n",
      "\u001b[1m80/80\u001b[0m \u001b[32m━━━━━━━━━━━━━━━━━━━━\u001b[0m\u001b[37m\u001b[0m \u001b[1m24s\u001b[0m 142ms/step - loss: 0.0742\n",
      "Epoch 2/40\n",
      "\u001b[1m80/80\u001b[0m \u001b[32m━━━━━━━━━━━━━━━━━━━━\u001b[0m\u001b[37m\u001b[0m \u001b[1m11s\u001b[0m 133ms/step - loss: 0.0101\n",
      "Epoch 3/40\n",
      "\u001b[1m80/80\u001b[0m \u001b[32m━━━━━━━━━━━━━━━━━━━━\u001b[0m\u001b[37m\u001b[0m \u001b[1m11s\u001b[0m 132ms/step - loss: 0.0086\n",
      "Epoch 4/40\n",
      "\u001b[1m80/80\u001b[0m \u001b[32m━━━━━━━━━━━━━━━━━━━━\u001b[0m\u001b[37m\u001b[0m \u001b[1m11s\u001b[0m 132ms/step - loss: 0.0079\n",
      "Epoch 5/40\n",
      "\u001b[1m80/80\u001b[0m \u001b[32m━━━━━━━━━━━━━━━━━━━━\u001b[0m\u001b[37m\u001b[0m \u001b[1m11s\u001b[0m 131ms/step - loss: 0.0064\n",
      "Epoch 6/40\n",
      "\u001b[1m80/80\u001b[0m \u001b[32m━━━━━━━━━━━━━━━━━━━━\u001b[0m\u001b[37m\u001b[0m \u001b[1m7s\u001b[0m 83ms/step - loss: 0.0081\n",
      "Epoch 7/40\n",
      "\u001b[1m80/80\u001b[0m \u001b[32m━━━━━━━━━━━━━━━━━━━━\u001b[0m\u001b[37m\u001b[0m \u001b[1m4s\u001b[0m 54ms/step - loss: 0.0065\n",
      "Epoch 8/40\n",
      "\u001b[1m80/80\u001b[0m \u001b[32m━━━━━━━━━━━━━━━━━━━━\u001b[0m\u001b[37m\u001b[0m \u001b[1m5s\u001b[0m 56ms/step - loss: 0.0060\n",
      "Epoch 9/40\n",
      "\u001b[1m80/80\u001b[0m \u001b[32m━━━━━━━━━━━━━━━━━━━━\u001b[0m\u001b[37m\u001b[0m \u001b[1m5s\u001b[0m 57ms/step - loss: 0.0062\n",
      "Epoch 10/40\n",
      "\u001b[1m80/80\u001b[0m \u001b[32m━━━━━━━━━━━━━━━━━━━━\u001b[0m\u001b[37m\u001b[0m \u001b[1m5s\u001b[0m 57ms/step - loss: 0.0055\n",
      "Epoch 11/40\n",
      "\u001b[1m80/80\u001b[0m \u001b[32m━━━━━━━━━━━━━━━━━━━━\u001b[0m\u001b[37m\u001b[0m \u001b[1m5s\u001b[0m 57ms/step - loss: 0.0046\n",
      "Epoch 12/40\n",
      "\u001b[1m80/80\u001b[0m \u001b[32m━━━━━━━━━━━━━━━━━━━━\u001b[0m\u001b[37m\u001b[0m \u001b[1m5s\u001b[0m 57ms/step - loss: 0.0040\n",
      "Epoch 13/40\n",
      "\u001b[1m80/80\u001b[0m \u001b[32m━━━━━━━━━━━━━━━━━━━━\u001b[0m\u001b[37m\u001b[0m \u001b[1m5s\u001b[0m 59ms/step - loss: 0.0042\n",
      "Epoch 14/40\n",
      "\u001b[1m80/80\u001b[0m \u001b[32m━━━━━━━━━━━━━━━━━━━━\u001b[0m\u001b[37m\u001b[0m \u001b[1m5s\u001b[0m 58ms/step - loss: 0.0051\n",
      "Epoch 15/40\n",
      "\u001b[1m80/80\u001b[0m \u001b[32m━━━━━━━━━━━━━━━━━━━━\u001b[0m\u001b[37m\u001b[0m \u001b[1m5s\u001b[0m 58ms/step - loss: 0.0050\n",
      "Epoch 16/40\n",
      "\u001b[1m80/80\u001b[0m \u001b[32m━━━━━━━━━━━━━━━━━━━━\u001b[0m\u001b[37m\u001b[0m \u001b[1m5s\u001b[0m 58ms/step - loss: 0.0038\n",
      "Epoch 17/40\n",
      "\u001b[1m80/80\u001b[0m \u001b[32m━━━━━━━━━━━━━━━━━━━━\u001b[0m\u001b[37m\u001b[0m \u001b[1m4s\u001b[0m 55ms/step - loss: 0.0043\n",
      "Epoch 18/40\n",
      "\u001b[1m80/80\u001b[0m \u001b[32m━━━━━━━━━━━━━━━━━━━━\u001b[0m\u001b[37m\u001b[0m \u001b[1m4s\u001b[0m 54ms/step - loss: 0.0042\n",
      "Epoch 19/40\n",
      "\u001b[1m80/80\u001b[0m \u001b[32m━━━━━━━━━━━━━━━━━━━━\u001b[0m\u001b[37m\u001b[0m \u001b[1m4s\u001b[0m 54ms/step - loss: 0.0034\n",
      "Epoch 20/40\n",
      "\u001b[1m80/80\u001b[0m \u001b[32m━━━━━━━━━━━━━━━━━━━━\u001b[0m\u001b[37m\u001b[0m \u001b[1m4s\u001b[0m 55ms/step - loss: 0.0037\n",
      "Epoch 21/40\n",
      "\u001b[1m80/80\u001b[0m \u001b[32m━━━━━━━━━━━━━━━━━━━━\u001b[0m\u001b[37m\u001b[0m \u001b[1m4s\u001b[0m 55ms/step - loss: 0.0036\n",
      "Epoch 22/40\n",
      "\u001b[1m80/80\u001b[0m \u001b[32m━━━━━━━━━━━━━━━━━━━━\u001b[0m\u001b[37m\u001b[0m \u001b[1m4s\u001b[0m 54ms/step - loss: 0.0030\n",
      "Epoch 23/40\n",
      "\u001b[1m80/80\u001b[0m \u001b[32m━━━━━━━━━━━━━━━━━━━━\u001b[0m\u001b[37m\u001b[0m \u001b[1m4s\u001b[0m 54ms/step - loss: 0.0039\n",
      "Epoch 24/40\n",
      "\u001b[1m80/80\u001b[0m \u001b[32m━━━━━━━━━━━━━━━━━━━━\u001b[0m\u001b[37m\u001b[0m \u001b[1m4s\u001b[0m 55ms/step - loss: 0.0034\n",
      "Epoch 25/40\n",
      "\u001b[1m80/80\u001b[0m \u001b[32m━━━━━━━━━━━━━━━━━━━━\u001b[0m\u001b[37m\u001b[0m \u001b[1m4s\u001b[0m 56ms/step - loss: 0.0029\n",
      "Epoch 26/40\n",
      "\u001b[1m80/80\u001b[0m \u001b[32m━━━━━━━━━━━━━━━━━━━━\u001b[0m\u001b[37m\u001b[0m \u001b[1m5s\u001b[0m 63ms/step - loss: 0.0028\n",
      "Epoch 27/40\n",
      "\u001b[1m80/80\u001b[0m \u001b[32m━━━━━━━━━━━━━━━━━━━━\u001b[0m\u001b[37m\u001b[0m \u001b[1m4s\u001b[0m 56ms/step - loss: 0.0030\n",
      "Epoch 28/40\n",
      "\u001b[1m80/80\u001b[0m \u001b[32m━━━━━━━━━━━━━━━━━━━━\u001b[0m\u001b[37m\u001b[0m \u001b[1m4s\u001b[0m 55ms/step - loss: 0.0036\n",
      "Epoch 29/40\n",
      "\u001b[1m80/80\u001b[0m \u001b[32m━━━━━━━━━━━━━━━━━━━━\u001b[0m\u001b[37m\u001b[0m \u001b[1m4s\u001b[0m 55ms/step - loss: 0.0029\n",
      "Epoch 30/40\n",
      "\u001b[1m80/80\u001b[0m \u001b[32m━━━━━━━━━━━━━━━━━━━━\u001b[0m\u001b[37m\u001b[0m \u001b[1m4s\u001b[0m 56ms/step - loss: 0.0024\n",
      "Epoch 31/40\n",
      "\u001b[1m80/80\u001b[0m \u001b[32m━━━━━━━━━━━━━━━━━━━━\u001b[0m\u001b[37m\u001b[0m \u001b[1m4s\u001b[0m 55ms/step - loss: 0.0027\n",
      "Epoch 32/40\n",
      "\u001b[1m80/80\u001b[0m \u001b[32m━━━━━━━━━━━━━━━━━━━━\u001b[0m\u001b[37m\u001b[0m \u001b[1m5s\u001b[0m 57ms/step - loss: 0.0029\n",
      "Epoch 33/40\n",
      "\u001b[1m80/80\u001b[0m \u001b[32m━━━━━━━━━━━━━━━━━━━━\u001b[0m\u001b[37m\u001b[0m \u001b[1m5s\u001b[0m 56ms/step - loss: 0.0031\n",
      "Epoch 34/40\n",
      "\u001b[1m80/80\u001b[0m \u001b[32m━━━━━━━━━━━━━━━━━━━━\u001b[0m\u001b[37m\u001b[0m \u001b[1m5s\u001b[0m 57ms/step - loss: 0.0028\n",
      "Epoch 35/40\n",
      "\u001b[1m80/80\u001b[0m \u001b[32m━━━━━━━━━━━━━━━━━━━━\u001b[0m\u001b[37m\u001b[0m \u001b[1m4s\u001b[0m 56ms/step - loss: 0.0024\n",
      "Epoch 36/40\n",
      "\u001b[1m80/80\u001b[0m \u001b[32m━━━━━━━━━━━━━━━━━━━━\u001b[0m\u001b[37m\u001b[0m \u001b[1m4s\u001b[0m 56ms/step - loss: 0.0023\n",
      "Epoch 37/40\n",
      "\u001b[1m80/80\u001b[0m \u001b[32m━━━━━━━━━━━━━━━━━━━━\u001b[0m\u001b[37m\u001b[0m \u001b[1m6s\u001b[0m 73ms/step - loss: 0.0020\n",
      "Epoch 38/40\n",
      "\u001b[1m80/80\u001b[0m \u001b[32m━━━━━━━━━━━━━━━━━━━━\u001b[0m\u001b[37m\u001b[0m \u001b[1m5s\u001b[0m 57ms/step - loss: 0.0024\n",
      "Epoch 39/40\n",
      "\u001b[1m80/80\u001b[0m \u001b[32m━━━━━━━━━━━━━━━━━━━━\u001b[0m\u001b[37m\u001b[0m \u001b[1m5s\u001b[0m 58ms/step - loss: 0.0023\n",
      "Epoch 40/40\n",
      "\u001b[1m80/80\u001b[0m \u001b[32m━━━━━━━━━━━━━━━━━━━━\u001b[0m\u001b[37m\u001b[0m \u001b[1m5s\u001b[0m 60ms/step - loss: 0.0025\n"
     ]
    },
    {
     "data": {
      "text/plain": [
       "<keras.src.callbacks.history.History at 0x1a5c923f1f0>"
      ]
     },
     "execution_count": 35,
     "metadata": {},
     "output_type": "execute_result"
    }
   ],
   "source": [
    "\n",
    "#Compiling and fitting the model\n",
    "regressor.compile(optimizer = 'adam', loss = 'mean_squared_error')\n",
    "regressor.fit(X_train, y_train, epochs = 40, batch_size = 16)"
   ]
  },
  {
   "cell_type": "code",
   "execution_count": 36,
   "id": "b87395f6-f214-48cb-8d20-49d1fd7470d3",
   "metadata": {},
   "outputs": [
    {
     "data": {
      "text/plain": [
       "[<matplotlib.lines.Line2D at 0x1a734ab5210>]"
      ]
     },
     "execution_count": 36,
     "metadata": {},
     "output_type": "execute_result"
    },
    {
     "data": {
      "image/png": "[encoded data removed]",
      "text/plain": [
       "<Figure size 432x288 with 1 Axes>"
      ]
     },
     "metadata": {
      "needs_background": "light"
     },
     "output_type": "display_data"
    }
   ],
   "source": [
    "loss_per_epoch = regressor.history.history['loss']\n",
    "plt.plot(range(len(loss_per_epoch)),loss_per_epoch)"
   ]
  },
  {
   "cell_type": "code",
   "execution_count": 37,
   "id": "9e2291ff-3c35-4e67-a55b-3db18d55c80e",
   "metadata": {},
   "outputs": [
    {
     "name": "stderr",
     "output_type": "stream",
     "text": [
      "[*********************100%%**********************]  1 of 1 completed\n"
     ]
    }
   ],
   "source": [
    "start = dt.datetime(2020, 1, 1)\n",
    "end = dt.datetime(2021, 12, 31)\n",
    "\n",
    "# Download the historical stock prices\n",
    "data6 = yf.download(ticker, start=start, end=end)"
   ]
  },
  {
   "cell_type": "code",
   "execution_count": 47,
   "id": "4fd37952-f661-45ce-a8c9-014dac3a037e",
   "metadata": {},
   "outputs": [],
   "source": [
    "\n",
    "#Fetching the test data and preprocessing\n",
    "testdataframe = data6\n",
    "testdataframe['Date'] = testdataframe.index\n",
    "testdata = pd.DataFrame(columns = ['Date', 'Open', 'High', 'Low', 'Close'])\n",
    "testdata['Date'] = testdataframe['Date']\n",
    "testdata['Open'] = testdataframe['Open']\n",
    "testdata['High'] = testdataframe['High']\n",
    "testdata['Low'] = testdataframe['Low']\n",
    "testdata['Close'] = testdataframe['Close']\n",
    "real_stock_price = testdata.iloc[:, 1:2].values\n",
    "dataset_total = pd.concat((data2['Open'], testdata['Open']), axis = 0)\n",
    "inputs = dataset_total[len(dataset_total) - len(testdata) - 60:].values\n",
    "inputs = inputs.reshape(-1,1)\n",
    "inputs = sc.transform(inputs)\n",
    "X_test = []\n",
    "# for i in range(60, 235):\n",
    "#     X_test.append(inputs[i-60:i, 0])\n",
    "for i in range(60, len(inputs)):\n",
    "    sequence = inputs[i-60:i, 0]\n",
    "    if len(sequence) == 60: # Ensure the sequence has 60 elements\n",
    "        X_test.append(sequence)\n",
    "X_test = np.array(X_test)\n",
    "X_test = np.reshape(X_test, (X_test.shape[0], X_test.shape[1], 1))"
   ]
  },
  {
   "cell_type": "code",
   "execution_count": 52,
   "id": "80b4a7fb-4933-4ec9-ab6a-087331b5dfc4",
   "metadata": {},
   "outputs": [
    {
     "data": {
      "text/html": [
       "<div>\n",
       "<style scoped>\n",
       "    .dataframe tbody tr th:only-of-type {\n",
       "        vertical-align: middle;\n",
       "    }\n",
       "\n",
       "    .dataframe tbody tr th {\n",
       "        vertical-align: top;\n",
       "    }\n",
       "\n",
       "    .dataframe thead th {\n",
       "        text-align: right;\n",
       "    }\n",
       "</style>\n",
       "<table border=\"1\" class=\"dataframe\">\n",
       "  <thead>\n",
       "    <tr style=\"text-align: right;\">\n",
       "      <th></th>\n",
       "      <th>Open</th>\n",
       "      <th>High</th>\n",
       "      <th>Low</th>\n",
       "      <th>Close</th>\n",
       "      <th>Adj Close</th>\n",
       "      <th>Volume</th>\n",
       "      <th>Date</th>\n",
       "    </tr>\n",
       "    <tr>\n",
       "      <th>Date</th>\n",
       "      <th></th>\n",
       "      <th></th>\n",
       "      <th></th>\n",
       "      <th></th>\n",
       "      <th></th>\n",
       "      <th></th>\n",
       "      <th></th>\n",
       "    </tr>\n",
       "  </thead>\n",
       "  <tbody>\n",
       "    <tr>\n",
       "      <th>2020-01-01</th>\n",
       "      <td>334.700012</td>\n",
       "      <td>335.950012</td>\n",
       "      <td>332.149994</td>\n",
       "      <td>334.450012</td>\n",
       "      <td>320.078278</td>\n",
       "      <td>17379320</td>\n",
       "      <td>2020-01-01</td>\n",
       "    </tr>\n",
       "    <tr>\n",
       "      <th>2020-01-02</th>\n",
       "      <td>334.500000</td>\n",
       "      <td>339.850006</td>\n",
       "      <td>333.350006</td>\n",
       "      <td>339.299988</td>\n",
       "      <td>324.719818</td>\n",
       "      <td>20324236</td>\n",
       "      <td>2020-01-02</td>\n",
       "    </tr>\n",
       "    <tr>\n",
       "      <th>2020-01-03</th>\n",
       "      <td>337.950012</td>\n",
       "      <td>337.950012</td>\n",
       "      <td>332.000000</td>\n",
       "      <td>333.700012</td>\n",
       "      <td>319.360474</td>\n",
       "      <td>21853208</td>\n",
       "      <td>2020-01-03</td>\n",
       "    </tr>\n",
       "    <tr>\n",
       "      <th>2020-01-06</th>\n",
       "      <td>331.700012</td>\n",
       "      <td>331.700012</td>\n",
       "      <td>317.700012</td>\n",
       "      <td>319.000000</td>\n",
       "      <td>305.292175</td>\n",
       "      <td>35645325</td>\n",
       "      <td>2020-01-06</td>\n",
       "    </tr>\n",
       "    <tr>\n",
       "      <th>2020-01-07</th>\n",
       "      <td>324.450012</td>\n",
       "      <td>327.000000</td>\n",
       "      <td>315.399994</td>\n",
       "      <td>318.399994</td>\n",
       "      <td>304.717926</td>\n",
       "      <td>50966826</td>\n",
       "      <td>2020-01-07</td>\n",
       "    </tr>\n",
       "    <tr>\n",
       "      <th>...</th>\n",
       "      <td>...</td>\n",
       "      <td>...</td>\n",
       "      <td>...</td>\n",
       "      <td>...</td>\n",
       "      <td>...</td>\n",
       "      <td>...</td>\n",
       "      <td>...</td>\n",
       "    </tr>\n",
       "    <tr>\n",
       "      <th>2020-05-22</th>\n",
       "      <td>152.000000</td>\n",
       "      <td>155.600006</td>\n",
       "      <td>149.449997</td>\n",
       "      <td>150.850006</td>\n",
       "      <td>144.367783</td>\n",
       "      <td>87064198</td>\n",
       "      <td>2020-05-22</td>\n",
       "    </tr>\n",
       "    <tr>\n",
       "      <th>2020-05-26</th>\n",
       "      <td>152.399994</td>\n",
       "      <td>153.199997</td>\n",
       "      <td>150.199997</td>\n",
       "      <td>151.399994</td>\n",
       "      <td>144.894135</td>\n",
       "      <td>48275988</td>\n",
       "      <td>2020-05-26</td>\n",
       "    </tr>\n",
       "    <tr>\n",
       "      <th>2020-05-27</th>\n",
       "      <td>151.949997</td>\n",
       "      <td>160.800003</td>\n",
       "      <td>150.800003</td>\n",
       "      <td>158.600006</td>\n",
       "      <td>151.784760</td>\n",
       "      <td>88195120</td>\n",
       "      <td>2020-05-27</td>\n",
       "    </tr>\n",
       "    <tr>\n",
       "      <th>2020-05-28</th>\n",
       "      <td>159.449997</td>\n",
       "      <td>162.399994</td>\n",
       "      <td>156.699997</td>\n",
       "      <td>158.199997</td>\n",
       "      <td>151.401932</td>\n",
       "      <td>76968678</td>\n",
       "      <td>2020-05-28</td>\n",
       "    </tr>\n",
       "    <tr>\n",
       "      <th>2020-05-29</th>\n",
       "      <td>156.100006</td>\n",
       "      <td>161.899994</td>\n",
       "      <td>155.199997</td>\n",
       "      <td>161.300003</td>\n",
       "      <td>154.368729</td>\n",
       "      <td>58363280</td>\n",
       "      <td>2020-05-29</td>\n",
       "    </tr>\n",
       "  </tbody>\n",
       "</table>\n",
       "<p>100 rows × 7 columns</p>\n",
       "</div>"
      ],
      "text/plain": [
       "                  Open        High         Low       Close   Adj Close  \\\n",
       "Date                                                                     \n",
       "2020-01-01  334.700012  335.950012  332.149994  334.450012  320.078278   \n",
       "2020-01-02  334.500000  339.850006  333.350006  339.299988  324.719818   \n",
       "2020-01-03  337.950012  337.950012  332.000000  333.700012  319.360474   \n",
       "2020-01-06  331.700012  331.700012  317.700012  319.000000  305.292175   \n",
       "2020-01-07  324.450012  327.000000  315.399994  318.399994  304.717926   \n",
       "...                ...         ...         ...         ...         ...   \n",
       "2020-05-22  152.000000  155.600006  149.449997  150.850006  144.367783   \n",
       "2020-05-26  152.399994  153.199997  150.199997  151.399994  144.894135   \n",
       "2020-05-27  151.949997  160.800003  150.800003  158.600006  151.784760   \n",
       "2020-05-28  159.449997  162.399994  156.699997  158.199997  151.401932   \n",
       "2020-05-29  156.100006  161.899994  155.199997  161.300003  154.368729   \n",
       "\n",
       "              Volume       Date  \n",
       "Date                             \n",
       "2020-01-01  17379320 2020-01-01  \n",
       "2020-01-02  20324236 2020-01-02  \n",
       "2020-01-03  21853208 2020-01-03  \n",
       "2020-01-06  35645325 2020-01-06  \n",
       "2020-01-07  50966826 2020-01-07  \n",
       "...              ...        ...  \n",
       "2020-05-22  87064198 2020-05-22  \n",
       "2020-05-26  48275988 2020-05-26  \n",
       "2020-05-27  88195120 2020-05-27  \n",
       "2020-05-28  76968678 2020-05-28  \n",
       "2020-05-29  58363280 2020-05-29  \n",
       "\n",
       "[100 rows x 7 columns]"
      ]
     },
     "execution_count": 52,
     "metadata": {},
     "output_type": "execute_result"
    }
   ],
   "source": [
    "testdataframe[:100]"
   ]
  },
  {
   "cell_type": "code",
   "execution_count": 14,
   "id": "7314f86e-2352-446f-85f0-ba964686f77c",
   "metadata": {},
   "outputs": [
    {
     "name": "stdout",
     "output_type": "stream",
     "text": [
      "558\n"
     ]
    }
   ],
   "source": [
    "print(len(inputs))"
   ]
  },
  {
   "cell_type": "code",
   "execution_count": 48,
   "id": "2ca9ce10-5199-41f0-8fc6-05a15ec5e6d2",
   "metadata": {},
   "outputs": [
    {
     "name": "stdout",
     "output_type": "stream",
     "text": [
      "\u001b[1m16/16\u001b[0m \u001b[32m━━━━━━━━━━━━━━━━━━━━\u001b[0m\u001b[37m\u001b[0m \u001b[1m0s\u001b[0m 21ms/step\n"
     ]
    }
   ],
   "source": [
    "#Making predictions on the test data\n",
    "predicted_stock_price = regressor.predict(X_test)\n",
    "predicted_stock_price = sc.inverse_transform(predicted_stock_price)"
   ]
  },
  {
   "cell_type": "code",
   "execution_count": 49,
   "id": "841d714b-95d3-4bba-add6-1e47c86bb48f",
   "metadata": {
    "scrolled": true
   },
   "outputs": [
    {
     "data": {
      "image/png": "[encoded data removed]",
      "text/plain": [
       "<Figure size 432x288 with 1 Axes>"
      ]
     },
     "metadata": {
      "needs_background": "light"
     },
     "output_type": "display_data"
    }
   ],
   "source": [
    "#Visualizing the prediction\n",
    "plt.figure()\n",
    "plt.plot(real_stock_price, color = 'r', label = 'Close')\n",
    "plt.plot(predicted_stock_price, color = 'b', label = 'Prediction')\n",
    "#plt.plot(predictions, color = 'g', label = 'ARIMA')\n",
    "\n",
    "plt.xlabel('Date')\n",
    "plt.legend()\n",
    "plt.show()"
   ]
  },
  {
   "cell_type": "code",
   "execution_count": 52,
   "id": "9a4d04bf-7514-4a0d-9982-4c78837f96d9",
   "metadata": {},
   "outputs": [
    {
     "name": "stdout",
     "output_type": "stream",
     "text": [
      "Mean Absolute Error (MAE) for ARIMA: 17.950144112828266\n",
      "Mean Squared Error (MSE) for ARIMA: 624.5080762514634\n",
      "Root Mean Squared Error (RMSE) for ARIMA: 24.99015958835524\n",
      "R-squared (R2) Score for ARIMA: 0.949214773748722\n"
     ]
    }
   ],
   "source": [
    "from sklearn.metrics import mean_absolute_error, mean_squared_error, r2_score\n",
    "import numpy as np\n",
    "\n",
    "# Assuming 'actual_values' and 'predicted_values' are lists or arrays of actual and predicted values\n",
    "actual_values = real_stock_price\n",
    "predicted_values = predicted_stock_price\n",
    "\n",
    "mae = mean_absolute_error(actual_values, predicted_values)\n",
    "mse = mean_squared_error(actual_values, predicted_values)\n",
    "rmse = np.sqrt(mse)\n",
    "r2 = r2_score(actual_values, predicted_values)\n",
    "\n",
    "# Calculate accuracy in percentage\n",
    "accuracy_percentage = ((max(actual_values) - mae) / max(actual_values)) * 100\n",
    "\n",
    "print(\"Mean Absolute Error (MAE) for ARIMA:\", mae)\n",
    "print(\"Mean Squared Error (MSE) for ARIMA:\", mse)\n",
    "print(\"Root Mean Squared Error (RMSE) for ARIMA:\", rmse)\n",
    "print(\"R-squared (R2) Score for ARIMA:\", r2)\n",
    "# print(\"Accuracy Percentage:\", accuracy_percentage)\n"
   ]
  },
  {
   "cell_type": "code",
   "execution_count": 80,
   "id": "8d92266e-02c2-419b-8d08-dc0f24ba3bc4",
   "metadata": {},
   "outputs": [
    {
     "data": {
      "image/png": "[encoded data removed]",
      "text/plain": [
       "<Figure size 720x432 with 1 Axes>"
      ]
     },
     "metadata": {
      "needs_background": "light"
     },
     "output_type": "display_data"
    }
   ],
   "source": [
    "import numpy as np\n",
    "import pandas as pd\n",
    "from statsmodels.tsa.arima.model import ARIMA\n",
    "\n",
    "# Assuming you have already fitted an ARIMA model and have the actual values and predictions\n",
    "# Replace 'actual_values' and 'predicted_values' with your actual and predicted values\n",
    "# Replace 'order' with the order of your ARIMA model\n",
    "\n",
    "# Calculate residuals\n",
    "residuals = real_stock_price[len(real_stock_price)-60:] - predicted_stock_price[len(predicted_stock_price)-60:] \n",
    "\n",
    "# Plot the residuals\n",
    "plt.figure(figsize=(10, 6))\n",
    "plt.plot(residuals, color='blue')\n",
    "plt.xlabel('Time')\n",
    "plt.ylabel('Residuals')\n",
    "plt.title('Residuals (Noise) from LSTM Model')\n",
    "plt.grid(True)\n",
    "plt.show()"
   ]
  },
  {
   "cell_type": "code",
   "execution_count": 67,
   "id": "5d4a5fd6-1cb2-411e-89db-0fdad36a284d",
   "metadata": {},
   "outputs": [
    {
     "ename": "AttributeError",
     "evalue": "'numpy.ndarray' object has no attribute 'index'",
     "output_type": "error",
     "traceback": [
      "\u001b[1;31m---------------------------------------------------------------------------\u001b[0m",
      "\u001b[1;31mAttributeError\u001b[0m                            Traceback (most recent call last)",
      "Input \u001b[1;32mIn [67]\u001b[0m, in \u001b[0;36m<cell line: 1>\u001b[1;34m()\u001b[0m\n\u001b[1;32m----> 1\u001b[0m plt\u001b[38;5;241m.\u001b[39mfill_between(\u001b[43mreal_stock_price\u001b[49m\u001b[38;5;241;43m.\u001b[39;49m\u001b[43mindex\u001b[49m, real_stock_price\u001b[38;5;241m.\u001b[39mvalues, predicted_stock_price\u001b[38;5;241m.\u001b[39mvalues, color\u001b[38;5;241m=\u001b[39m\u001b[38;5;124m'\u001b[39m\u001b[38;5;124mskyblue\u001b[39m\u001b[38;5;124m'\u001b[39m, alpha\u001b[38;5;241m=\u001b[39m\u001b[38;5;241m0.3\u001b[39m, label\u001b[38;5;241m=\u001b[39m\u001b[38;5;124m'\u001b[39m\u001b[38;5;124mDifference\u001b[39m\u001b[38;5;124m'\u001b[39m)\n\u001b[0;32m      2\u001b[0m plt\u001b[38;5;241m.\u001b[39mplot(real_stock_price, color\u001b[38;5;241m=\u001b[39m\u001b[38;5;124m'\u001b[39m\u001b[38;5;124mred\u001b[39m\u001b[38;5;124m'\u001b[39m, label\u001b[38;5;241m=\u001b[39m\u001b[38;5;124m'\u001b[39m\u001b[38;5;124mActual Close\u001b[39m\u001b[38;5;124m'\u001b[39m)\n\u001b[0;32m      3\u001b[0m plt\u001b[38;5;241m.\u001b[39mplot(predicted_stock_price, color\u001b[38;5;241m=\u001b[39m\u001b[38;5;124m'\u001b[39m\u001b[38;5;124mblue\u001b[39m\u001b[38;5;124m'\u001b[39m, label\u001b[38;5;241m=\u001b[39m\u001b[38;5;124m'\u001b[39m\u001b[38;5;124mPredicted Close\u001b[39m\u001b[38;5;124m'\u001b[39m)\n",
      "\u001b[1;31mAttributeError\u001b[0m: 'numpy.ndarray' object has no attribute 'index'"
     ]
    }
   ],
   "source": [
    "plt.fill_between(real_stock_price.index, real_stock_price.values, predicted_stock_price.values, color='skyblue', alpha=0.3, label='Difference')\n",
    "plt.plot(real_stock_price, color='red', label='Actual Close')\n",
    "plt.plot(predicted_stock_price, color='blue', label='Predicted Close')\n",
    "plt.xlabel('Date')\n",
    "plt.ylabel('Close Price')\n",
    "plt.title('Actual vs Predicted Close Prices')\n",
    "plt.legend()\n",
    "plt.show()\n"
   ]
  },
  {
   "cell_type": "code",
   "execution_count": 44,
   "id": "f94673de-051e-477e-9012-19e1f93d3f66",
   "metadata": {},
   "outputs": [
    {
     "name": "stdout",
     "output_type": "stream",
     "text": [
      "Date\n",
      "2013-01-01    240.490005\n",
      "2013-01-02    245.000000\n",
      "2013-01-03    246.000000\n",
      "2013-01-04    246.000000\n",
      "2013-01-07    249.000000\n",
      "                 ...    \n",
      "2022-12-26    574.000000\n",
      "2022-12-27    600.400024\n",
      "2022-12-28    600.900024\n",
      "2022-12-29    600.000000\n",
      "2022-12-30    615.250000\n",
      "Name: Open, Length: 2216, dtype: float64\n"
     ]
    }
   ],
   "source": [
    "print(dataset_total)"
   ]
  },
  {
   "cell_type": "code",
   "execution_count": 36,
   "id": "f8b56f0b-435f-4358-982d-3e85f18c1700",
   "metadata": {},
   "outputs": [
    {
     "name": "stdout",
     "output_type": "stream",
     "text": [
      "2216\n"
     ]
    }
   ],
   "source": [
    "print(len(dataset_total))"
   ]
  },
  {
   "cell_type": "code",
   "execution_count": 65,
   "id": "cce4d849-9d03-4562-bfe9-f5c92b619404",
   "metadata": {},
   "outputs": [
    {
     "name": "stdout",
     "output_type": "stream",
     "text": [
      "747\n"
     ]
    }
   ],
   "source": [
    "print(len(testdata))"
   ]
  },
  {
   "cell_type": "code",
   "execution_count": 66,
   "id": "33c9ae50-f35e-4ab0-a698-d10ca1643c36",
   "metadata": {},
   "outputs": [
    {
     "name": "stdout",
     "output_type": "stream",
     "text": [
      "807\n"
     ]
    }
   ],
   "source": [
    "print(len(inputs))"
   ]
  },
  {
   "cell_type": "code",
   "execution_count": null,
   "id": "1e1d58e4-ffc5-47e8-ab84-4e9291350769",
   "metadata": {},
   "outputs": [],
   "source": []
  },
  {
   "cell_type": "code",
   "execution_count": 17,
   "id": "84902b1e-204a-4e54-84ef-e81ec931115c",
   "metadata": {},
   "outputs": [
    {
     "name": "stdout",
     "output_type": "stream",
     "text": [
      "\u001b[1m1/1\u001b[0m \u001b[32m━━━━━━━━━━━━━━━━━━━━\u001b[0m\u001b[37m\u001b[0m \u001b[1m1s\u001b[0m 719ms/step\n",
      "\u001b[1m1/1\u001b[0m \u001b[32m━━━━━━━━━━━━━━━━━━━━\u001b[0m\u001b[37m\u001b[0m \u001b[1m0s\u001b[0m 253ms/step\n",
      "\u001b[1m1/1\u001b[0m \u001b[32m━━━━━━━━━━━━━━━━━━━━\u001b[0m\u001b[37m\u001b[0m \u001b[1m0s\u001b[0m 228ms/step\n",
      "\u001b[1m1/1\u001b[0m \u001b[32m━━━━━━━━━━━━━━━━━━━━\u001b[0m\u001b[37m\u001b[0m \u001b[1m0s\u001b[0m 235ms/step\n",
      "\u001b[1m1/1\u001b[0m \u001b[32m━━━━━━━━━━━━━━━━━━━━\u001b[0m\u001b[37m\u001b[0m \u001b[1m0s\u001b[0m 230ms/step\n",
      "\u001b[1m1/1\u001b[0m \u001b[32m━━━━━━━━━━━━━━━━━━━━\u001b[0m\u001b[37m\u001b[0m \u001b[1m0s\u001b[0m 230ms/step\n",
      "\u001b[1m1/1\u001b[0m \u001b[32m━━━━━━━━━━━━━━━━━━━━\u001b[0m\u001b[37m\u001b[0m \u001b[1m0s\u001b[0m 226ms/step\n",
      "\u001b[1m1/1\u001b[0m \u001b[32m━━━━━━━━━━━━━━━━━━━━\u001b[0m\u001b[37m\u001b[0m \u001b[1m0s\u001b[0m 228ms/step\n",
      "\u001b[1m1/1\u001b[0m \u001b[32m━━━━━━━━━━━━━━━━━━━━\u001b[0m\u001b[37m\u001b[0m \u001b[1m0s\u001b[0m 226ms/step\n",
      "\u001b[1m1/1\u001b[0m \u001b[32m━━━━━━━━━━━━━━━━━━━━\u001b[0m\u001b[37m\u001b[0m \u001b[1m0s\u001b[0m 236ms/step\n",
      "\u001b[1m1/1\u001b[0m \u001b[32m━━━━━━━━━━━━━━━━━━━━\u001b[0m\u001b[37m\u001b[0m \u001b[1m0s\u001b[0m 234ms/step\n",
      "\u001b[1m1/1\u001b[0m \u001b[32m━━━━━━━━━━━━━━━━━━━━\u001b[0m\u001b[37m\u001b[0m \u001b[1m0s\u001b[0m 231ms/step\n",
      "\u001b[1m1/1\u001b[0m \u001b[32m━━━━━━━━━━━━━━━━━━━━\u001b[0m\u001b[37m\u001b[0m \u001b[1m0s\u001b[0m 232ms/step\n",
      "\u001b[1m1/1\u001b[0m \u001b[32m━━━━━━━━━━━━━━━━━━━━\u001b[0m\u001b[37m\u001b[0m \u001b[1m0s\u001b[0m 232ms/step\n",
      "\u001b[1m1/1\u001b[0m \u001b[32m━━━━━━━━━━━━━━━━━━━━\u001b[0m\u001b[37m\u001b[0m \u001b[1m0s\u001b[0m 226ms/step\n",
      "\u001b[1m1/1\u001b[0m \u001b[32m━━━━━━━━━━━━━━━━━━━━\u001b[0m\u001b[37m\u001b[0m \u001b[1m0s\u001b[0m 230ms/step\n",
      "\u001b[1m1/1\u001b[0m \u001b[32m━━━━━━━━━━━━━━━━━━━━\u001b[0m\u001b[37m\u001b[0m \u001b[1m0s\u001b[0m 228ms/step\n",
      "\u001b[1m1/1\u001b[0m \u001b[32m━━━━━━━━━━━━━━━━━━━━\u001b[0m\u001b[37m\u001b[0m \u001b[1m0s\u001b[0m 225ms/step\n",
      "\u001b[1m1/1\u001b[0m \u001b[32m━━━━━━━━━━━━━━━━━━━━\u001b[0m\u001b[37m\u001b[0m \u001b[1m0s\u001b[0m 236ms/step\n",
      "\u001b[1m1/1\u001b[0m \u001b[32m━━━━━━━━━━━━━━━━━━━━\u001b[0m\u001b[37m\u001b[0m \u001b[1m0s\u001b[0m 227ms/step\n",
      "\u001b[1m1/1\u001b[0m \u001b[32m━━━━━━━━━━━━━━━━━━━━\u001b[0m\u001b[37m\u001b[0m \u001b[1m0s\u001b[0m 224ms/step\n",
      "\u001b[1m1/1\u001b[0m \u001b[32m━━━━━━━━━━━━━━━━━━━━\u001b[0m\u001b[37m\u001b[0m \u001b[1m0s\u001b[0m 228ms/step\n",
      "\u001b[1m1/1\u001b[0m \u001b[32m━━━━━━━━━━━━━━━━━━━━\u001b[0m\u001b[37m\u001b[0m \u001b[1m0s\u001b[0m 229ms/step\n",
      "\u001b[1m1/1\u001b[0m \u001b[32m━━━━━━━━━━━━━━━━━━━━\u001b[0m\u001b[37m\u001b[0m \u001b[1m0s\u001b[0m 230ms/step\n",
      "\u001b[1m1/1\u001b[0m \u001b[32m━━━━━━━━━━━━━━━━━━━━\u001b[0m\u001b[37m\u001b[0m \u001b[1m0s\u001b[0m 230ms/step\n",
      "\u001b[1m1/1\u001b[0m \u001b[32m━━━━━━━━━━━━━━━━━━━━\u001b[0m\u001b[37m\u001b[0m \u001b[1m0s\u001b[0m 228ms/step\n",
      "\u001b[1m1/1\u001b[0m \u001b[32m━━━━━━━━━━━━━━━━━━━━\u001b[0m\u001b[37m\u001b[0m \u001b[1m0s\u001b[0m 231ms/step\n",
      "\u001b[1m1/1\u001b[0m \u001b[32m━━━━━━━━━━━━━━━━━━━━\u001b[0m\u001b[37m\u001b[0m \u001b[1m0s\u001b[0m 229ms/step\n",
      "\u001b[1m1/1\u001b[0m \u001b[32m━━━━━━━━━━━━━━━━━━━━\u001b[0m\u001b[37m\u001b[0m \u001b[1m0s\u001b[0m 230ms/step\n",
      "\u001b[1m1/1\u001b[0m \u001b[32m━━━━━━━━━━━━━━━━━━━━\u001b[0m\u001b[37m\u001b[0m \u001b[1m0s\u001b[0m 226ms/step\n",
      "\u001b[1m1/1\u001b[0m \u001b[32m━━━━━━━━━━━━━━━━━━━━\u001b[0m\u001b[37m\u001b[0m \u001b[1m0s\u001b[0m 228ms/step\n",
      "\u001b[1m1/1\u001b[0m \u001b[32m━━━━━━━━━━━━━━━━━━━━\u001b[0m\u001b[37m\u001b[0m \u001b[1m0s\u001b[0m 229ms/step\n",
      "\u001b[1m1/1\u001b[0m \u001b[32m━━━━━━━━━━━━━━━━━━━━\u001b[0m\u001b[37m\u001b[0m \u001b[1m0s\u001b[0m 225ms/step\n",
      "\u001b[1m1/1\u001b[0m \u001b[32m━━━━━━━━━━━━━━━━━━━━\u001b[0m\u001b[37m\u001b[0m \u001b[1m0s\u001b[0m 231ms/step\n",
      "\u001b[1m1/1\u001b[0m \u001b[32m━━━━━━━━━━━━━━━━━━━━\u001b[0m\u001b[37m\u001b[0m \u001b[1m0s\u001b[0m 228ms/step\n",
      "\u001b[1m1/1\u001b[0m \u001b[32m━━━━━━━━━━━━━━━━━━━━\u001b[0m\u001b[37m\u001b[0m \u001b[1m0s\u001b[0m 228ms/step\n",
      "\u001b[1m1/1\u001b[0m \u001b[32m━━━━━━━━━━━━━━━━━━━━\u001b[0m\u001b[37m\u001b[0m \u001b[1m0s\u001b[0m 233ms/step\n",
      "\u001b[1m1/1\u001b[0m \u001b[32m━━━━━━━━━━━━━━━━━━━━\u001b[0m\u001b[37m\u001b[0m \u001b[1m0s\u001b[0m 227ms/step\n",
      "\u001b[1m1/1\u001b[0m \u001b[32m━━━━━━━━━━━━━━━━━━━━\u001b[0m\u001b[37m\u001b[0m \u001b[1m0s\u001b[0m 244ms/step\n",
      "\u001b[1m1/1\u001b[0m \u001b[32m━━━━━━━━━━━━━━━━━━━━\u001b[0m\u001b[37m\u001b[0m \u001b[1m0s\u001b[0m 235ms/step\n",
      "\u001b[1m1/1\u001b[0m \u001b[32m━━━━━━━━━━━━━━━━━━━━\u001b[0m\u001b[37m\u001b[0m \u001b[1m0s\u001b[0m 227ms/step\n",
      "\u001b[1m1/1\u001b[0m \u001b[32m━━━━━━━━━━━━━━━━━━━━\u001b[0m\u001b[37m\u001b[0m \u001b[1m0s\u001b[0m 224ms/step\n",
      "\u001b[1m1/1\u001b[0m \u001b[32m━━━━━━━━━━━━━━━━━━━━\u001b[0m\u001b[37m\u001b[0m \u001b[1m0s\u001b[0m 227ms/step\n",
      "\u001b[1m1/1\u001b[0m \u001b[32m━━━━━━━━━━━━━━━━━━━━\u001b[0m\u001b[37m\u001b[0m \u001b[1m0s\u001b[0m 229ms/step\n",
      "\u001b[1m1/1\u001b[0m \u001b[32m━━━━━━━━━━━━━━━━━━━━\u001b[0m\u001b[37m\u001b[0m \u001b[1m0s\u001b[0m 237ms/step\n",
      "\u001b[1m1/1\u001b[0m \u001b[32m━━━━━━━━━━━━━━━━━━━━\u001b[0m\u001b[37m\u001b[0m \u001b[1m0s\u001b[0m 225ms/step\n",
      "\u001b[1m1/1\u001b[0m \u001b[32m━━━━━━━━━━━━━━━━━━━━\u001b[0m\u001b[37m\u001b[0m \u001b[1m0s\u001b[0m 228ms/step\n",
      "\u001b[1m1/1\u001b[0m \u001b[32m━━━━━━━━━━━━━━━━━━━━\u001b[0m\u001b[37m\u001b[0m \u001b[1m0s\u001b[0m 235ms/step\n",
      "\u001b[1m1/1\u001b[0m \u001b[32m━━━━━━━━━━━━━━━━━━━━\u001b[0m\u001b[37m\u001b[0m \u001b[1m0s\u001b[0m 253ms/step\n",
      "\u001b[1m1/1\u001b[0m \u001b[32m━━━━━━━━━━━━━━━━━━━━\u001b[0m\u001b[37m\u001b[0m \u001b[1m0s\u001b[0m 227ms/step\n",
      "\u001b[1m1/1\u001b[0m \u001b[32m━━━━━━━━━━━━━━━━━━━━\u001b[0m\u001b[37m\u001b[0m \u001b[1m0s\u001b[0m 227ms/step\n",
      "\u001b[1m1/1\u001b[0m \u001b[32m━━━━━━━━━━━━━━━━━━━━\u001b[0m\u001b[37m\u001b[0m \u001b[1m0s\u001b[0m 231ms/step\n",
      "\u001b[1m1/1\u001b[0m \u001b[32m━━━━━━━━━━━━━━━━━━━━\u001b[0m\u001b[37m\u001b[0m \u001b[1m0s\u001b[0m 225ms/step\n",
      "\u001b[1m1/1\u001b[0m \u001b[32m━━━━━━━━━━━━━━━━━━━━\u001b[0m\u001b[37m\u001b[0m \u001b[1m0s\u001b[0m 227ms/step\n",
      "\u001b[1m1/1\u001b[0m \u001b[32m━━━━━━━━━━━━━━━━━━━━\u001b[0m\u001b[37m\u001b[0m \u001b[1m0s\u001b[0m 227ms/step\n",
      "\u001b[1m1/1\u001b[0m \u001b[32m━━━━━━━━━━━━━━━━━━━━\u001b[0m\u001b[37m\u001b[0m \u001b[1m0s\u001b[0m 228ms/step\n",
      "\u001b[1m1/1\u001b[0m \u001b[32m━━━━━━━━━━━━━━━━━━━━\u001b[0m\u001b[37m\u001b[0m \u001b[1m0s\u001b[0m 236ms/step\n",
      "\u001b[1m1/1\u001b[0m \u001b[32m━━━━━━━━━━━━━━━━━━━━\u001b[0m\u001b[37m\u001b[0m \u001b[1m0s\u001b[0m 232ms/step\n",
      "\u001b[1m1/1\u001b[0m \u001b[32m━━━━━━━━━━━━━━━━━━━━\u001b[0m\u001b[37m\u001b[0m \u001b[1m0s\u001b[0m 225ms/step\n",
      "\u001b[1m1/1\u001b[0m \u001b[32m━━━━━━━━━━━━━━━━━━━━\u001b[0m\u001b[37m\u001b[0m \u001b[1m0s\u001b[0m 232ms/step\n",
      "\u001b[1m1/1\u001b[0m \u001b[32m━━━━━━━━━━━━━━━━━━━━\u001b[0m\u001b[37m\u001b[0m \u001b[1m0s\u001b[0m 235ms/step\n",
      "\u001b[1m1/1\u001b[0m \u001b[32m━━━━━━━━━━━━━━━━━━━━\u001b[0m\u001b[37m\u001b[0m \u001b[1m0s\u001b[0m 231ms/step\n",
      "\u001b[1m1/1\u001b[0m \u001b[32m━━━━━━━━━━━━━━━━━━━━\u001b[0m\u001b[37m\u001b[0m \u001b[1m0s\u001b[0m 231ms/step\n",
      "\u001b[1m1/1\u001b[0m \u001b[32m━━━━━━━━━━━━━━━━━━━━\u001b[0m\u001b[37m\u001b[0m \u001b[1m0s\u001b[0m 230ms/step\n",
      "\u001b[1m1/1\u001b[0m \u001b[32m━━━━━━━━━━━━━━━━━━━━\u001b[0m\u001b[37m\u001b[0m \u001b[1m0s\u001b[0m 229ms/step\n",
      "\u001b[1m1/1\u001b[0m \u001b[32m━━━━━━━━━━━━━━━━━━━━\u001b[0m\u001b[37m\u001b[0m \u001b[1m0s\u001b[0m 227ms/step\n",
      "\u001b[1m1/1\u001b[0m \u001b[32m━━━━━━━━━━━━━━━━━━━━\u001b[0m\u001b[37m\u001b[0m \u001b[1m0s\u001b[0m 233ms/step\n",
      "\u001b[1m1/1\u001b[0m \u001b[32m━━━━━━━━━━━━━━━━━━━━\u001b[0m\u001b[37m\u001b[0m \u001b[1m0s\u001b[0m 227ms/step\n",
      "\u001b[1m1/1\u001b[0m \u001b[32m━━━━━━━━━━━━━━━━━━━━\u001b[0m\u001b[37m\u001b[0m \u001b[1m0s\u001b[0m 228ms/step\n",
      "\u001b[1m1/1\u001b[0m \u001b[32m━━━━━━━━━━━━━━━━━━━━\u001b[0m\u001b[37m\u001b[0m \u001b[1m0s\u001b[0m 231ms/step\n",
      "\u001b[1m1/1\u001b[0m \u001b[32m━━━━━━━━━━━━━━━━━━━━\u001b[0m\u001b[37m\u001b[0m \u001b[1m0s\u001b[0m 238ms/step\n",
      "\u001b[1m1/1\u001b[0m \u001b[32m━━━━━━━━━━━━━━━━━━━━\u001b[0m\u001b[37m\u001b[0m \u001b[1m0s\u001b[0m 231ms/step\n",
      "\u001b[1m1/1\u001b[0m \u001b[32m━━━━━━━━━━━━━━━━━━━━\u001b[0m\u001b[37m\u001b[0m \u001b[1m0s\u001b[0m 229ms/step\n",
      "\u001b[1m1/1\u001b[0m \u001b[32m━━━━━━━━━━━━━━━━━━━━\u001b[0m\u001b[37m\u001b[0m \u001b[1m0s\u001b[0m 227ms/step\n",
      "\u001b[1m1/1\u001b[0m \u001b[32m━━━━━━━━━━━━━━━━━━━━\u001b[0m\u001b[37m\u001b[0m \u001b[1m0s\u001b[0m 229ms/step\n",
      "\u001b[1m1/1\u001b[0m \u001b[32m━━━━━━━━━━━━━━━━━━━━\u001b[0m\u001b[37m\u001b[0m \u001b[1m0s\u001b[0m 227ms/step\n",
      "\u001b[1m1/1\u001b[0m \u001b[32m━━━━━━━━━━━━━━━━━━━━\u001b[0m\u001b[37m\u001b[0m \u001b[1m0s\u001b[0m 236ms/step\n",
      "\u001b[1m1/1\u001b[0m \u001b[32m━━━━━━━━━━━━━━━━━━━━\u001b[0m\u001b[37m\u001b[0m \u001b[1m0s\u001b[0m 235ms/step\n",
      "\u001b[1m1/1\u001b[0m \u001b[32m━━━━━━━━━━━━━━━━━━━━\u001b[0m\u001b[37m\u001b[0m \u001b[1m0s\u001b[0m 242ms/step\n",
      "\u001b[1m1/1\u001b[0m \u001b[32m━━━━━━━━━━━━━━━━━━━━\u001b[0m\u001b[37m\u001b[0m \u001b[1m0s\u001b[0m 231ms/step\n",
      "\u001b[1m1/1\u001b[0m \u001b[32m━━━━━━━━━━━━━━━━━━━━\u001b[0m\u001b[37m\u001b[0m \u001b[1m0s\u001b[0m 228ms/step\n",
      "\u001b[1m1/1\u001b[0m \u001b[32m━━━━━━━━━━━━━━━━━━━━\u001b[0m\u001b[37m\u001b[0m \u001b[1m0s\u001b[0m 238ms/step\n",
      "\u001b[1m1/1\u001b[0m \u001b[32m━━━━━━━━━━━━━━━━━━━━\u001b[0m\u001b[37m\u001b[0m \u001b[1m0s\u001b[0m 229ms/step\n",
      "\u001b[1m1/1\u001b[0m \u001b[32m━━━━━━━━━━━━━━━━━━━━\u001b[0m\u001b[37m\u001b[0m \u001b[1m0s\u001b[0m 227ms/step\n",
      "\u001b[1m1/1\u001b[0m \u001b[32m━━━━━━━━━━━━━━━━━━━━\u001b[0m\u001b[37m\u001b[0m \u001b[1m0s\u001b[0m 229ms/step\n",
      "\u001b[1m1/1\u001b[0m \u001b[32m━━━━━━━━━━━━━━━━━━━━\u001b[0m\u001b[37m\u001b[0m \u001b[1m0s\u001b[0m 228ms/step\n",
      "\u001b[1m1/1\u001b[0m \u001b[32m━━━━━━━━━━━━━━━━━━━━\u001b[0m\u001b[37m\u001b[0m \u001b[1m0s\u001b[0m 231ms/step\n",
      "\u001b[1m1/1\u001b[0m \u001b[32m━━━━━━━━━━━━━━━━━━━━\u001b[0m\u001b[37m\u001b[0m \u001b[1m0s\u001b[0m 230ms/step\n",
      "\u001b[1m1/1\u001b[0m \u001b[32m━━━━━━━━━━━━━━━━━━━━\u001b[0m\u001b[37m\u001b[0m \u001b[1m0s\u001b[0m 238ms/step\n",
      "\u001b[1m1/1\u001b[0m \u001b[32m━━━━━━━━━━━━━━━━━━━━\u001b[0m\u001b[37m\u001b[0m \u001b[1m0s\u001b[0m 227ms/step\n",
      "\u001b[1m1/1\u001b[0m \u001b[32m━━━━━━━━━━━━━━━━━━━━\u001b[0m\u001b[37m\u001b[0m \u001b[1m0s\u001b[0m 228ms/step\n",
      "\u001b[1m1/1\u001b[0m \u001b[32m━━━━━━━━━━━━━━━━━━━━\u001b[0m\u001b[37m\u001b[0m \u001b[1m0s\u001b[0m 230ms/step\n",
      "\u001b[1m1/1\u001b[0m \u001b[32m━━━━━━━━━━━━━━━━━━━━\u001b[0m\u001b[37m\u001b[0m \u001b[1m0s\u001b[0m 228ms/step\n",
      "\u001b[1m1/1\u001b[0m \u001b[32m━━━━━━━━━━━━━━━━━━━━\u001b[0m\u001b[37m\u001b[0m \u001b[1m0s\u001b[0m 231ms/step\n",
      "\u001b[1m1/1\u001b[0m \u001b[32m━━━━━━━━━━━━━━━━━━━━\u001b[0m\u001b[37m\u001b[0m \u001b[1m0s\u001b[0m 230ms/step\n",
      "\u001b[1m1/1\u001b[0m \u001b[32m━━━━━━━━━━━━━━━━━━━━\u001b[0m\u001b[37m\u001b[0m \u001b[1m0s\u001b[0m 233ms/step\n",
      "\u001b[1m1/1\u001b[0m \u001b[32m━━━━━━━━━━━━━━━━━━━━\u001b[0m\u001b[37m\u001b[0m \u001b[1m0s\u001b[0m 232ms/step\n",
      "\u001b[1m1/1\u001b[0m \u001b[32m━━━━━━━━━━━━━━━━━━━━\u001b[0m\u001b[37m\u001b[0m \u001b[1m0s\u001b[0m 235ms/step\n",
      "\u001b[1m1/1\u001b[0m \u001b[32m━━━━━━━━━━━━━━━━━━━━\u001b[0m\u001b[37m\u001b[0m \u001b[1m0s\u001b[0m 228ms/step\n",
      "\u001b[1m1/1\u001b[0m \u001b[32m━━━━━━━━━━━━━━━━━━━━\u001b[0m\u001b[37m\u001b[0m \u001b[1m0s\u001b[0m 246ms/step\n"
     ]
    }
   ],
   "source": [
    "from tensorflow.keras.preprocessing.sequence import pad_sequences\n",
    "\n",
    "# Assuming 'data2' contains your entire dataset\n",
    "inputs = dataset_total[:-100].values\n",
    "# data7 = data2['Open']\n",
    "# inputs = data7[:-200].values\n",
    "inputs = inputs.reshape(-1, 1)\n",
    "inputs = sc.transform(inputs)\n",
    "\n",
    "# Check if there are enough data points to create sequences\n",
    "if len(inputs) < 1600:\n",
    "    print(\"Not enough data points to create input sequences for prediction.\")\n",
    "else:\n",
    "    X_pred = []  # Prepare list for input sequences\n",
    "\n",
    "    # Create input sequences for prediction \n",
    "    for i in range(1700, len(inputs)):  # Extend the range by 60 steps\n",
    "        start_index = max(0, i - 1700)  # Ensure start index doesn't go negative\n",
    "        sequence = inputs[start_index:i, 0]\n",
    "        X_pred.append(sequence)\n",
    "\n",
    "    # Pad sequences to ensure uniform length\n",
    "    X_pred = pad_sequences(X_pred, maxlen=1700, dtype='float32', padding='pre', truncating='pre')\n",
    "\n",
    "    # Reshape for LSTM model input\n",
    "    X_pred = np.reshape(X_pred, (X_pred.shape[0], -1, 1))  \n",
    "    \n",
    "    # Predict future values iteratively\n",
    "    predicted_stock_price = []\n",
    "    \n",
    "    for i in range(100):\n",
    "        # Predict one step ahead\n",
    "        pred = regressor.predict(X_pred[i:i+1])  # Predicting only one step ahead\n",
    "        predicted_stock_price.append(pred)\n",
    "    \n",
    "        # Concatenate pred with the last element of X_pred and reshape to match input shape\n",
    "        pred = pred.reshape(1, 1, 1)\n",
    "        pred = np.repeat(pred, X_pred.shape[1], axis=1)  # Repeat pred to match X_pred shape along axis 1\n",
    "        X_pred = np.concatenate((X_pred, pred), axis=0)\n",
    "    \n",
    "    # Inverse transform to get actual values\n",
    "    predicted_stock_price = sc.inverse_transform(np.array(predicted_stock_price).reshape(-1, 1))\n",
    "\n",
    "\n"
   ]
  },
  {
   "cell_type": "code",
   "execution_count": 1,
   "id": "52b48993-4112-471d-8ee8-29103712e715",
   "metadata": {},
   "outputs": [
    {
     "ename": "NameError",
     "evalue": "name 'X_pred' is not defined",
     "output_type": "error",
     "traceback": [
      "\u001b[1;31m---------------------------------------------------------------------------\u001b[0m",
      "\u001b[1;31mNameError\u001b[0m                                 Traceback (most recent call last)",
      "Input \u001b[1;32mIn [1]\u001b[0m, in \u001b[0;36m<cell line: 1>\u001b[1;34m()\u001b[0m\n\u001b[1;32m----> 1\u001b[0m \u001b[43mX_pred\u001b[49m[\u001b[38;5;241m0\u001b[39m]\n",
      "\u001b[1;31mNameError\u001b[0m: name 'X_pred' is not defined"
     ]
    }
   ],
   "source": [
    "X_pred[0]"
   ]
  },
  {
   "cell_type": "code",
   "execution_count": 23,
   "id": "e4da805d-33dd-4c37-aca4-5eaf28fcdb98",
   "metadata": {},
   "outputs": [
    {
     "data": {
      "image/png": "[encoded data removed]",
      "text/plain": [
       "<Figure size 432x288 with 1 Axes>"
      ]
     },
     "metadata": {
      "needs_background": "light"
     },
     "output_type": "display_data"
    }
   ],
   "source": [
    "plt.figure()\n",
    "plt.plot(real_stock_price[:100], color = 'r', label = 'Close')\n",
    "#plt.plot(dataset_total[-100:].values, color = 'r', label = 'Close')\n",
    "plt.plot(predicted_stock_price, color = 'b', label = 'Prediction')\n",
    "#plt.plot(predictions, color = 'g', label = 'ARIMA')\n",
    "\n",
    "plt.xlabel('Date')\n",
    "plt.legend()\n",
    "plt.show()"
   ]
  },
  {
   "cell_type": "code",
   "execution_count": 43,
   "id": "623e598b-fed1-4691-b140-a1636f290d23",
   "metadata": {},
   "outputs": [],
   "source": [
    "import numpy as np\n",
    "\n",
    "# 'center_line' is the y-coordinate of the center line\n",
    "def invert_data(predicted_stock_price, center_line):\n",
    "    inverted_data = []\n",
    "    for point in predicted_stock_price:\n",
    "        # Calculate the distance from the center line\n",
    "        distance = point - center_line\n",
    "        # Calculate the mirror image\n",
    "        inverted_point = center_line - distance\n",
    "        # Add the inverted point to the result\n",
    "        inverted_data.append(inverted_point)\n",
    "    return inverted_data\n",
    "\n",
    "center_line = np.mean(predicted_stock_price)  # Use the mean as the center line\n",
    "inverted_predicted_data = invert_data(predicted_stock_price, center_line)"
   ]
  },
  {
   "cell_type": "code",
   "execution_count": 1,
   "id": "323b5de9-74d5-42a7-ac54-9c3304b607c6",
   "metadata": {},
   "outputs": [
    {
     "ename": "NameError",
     "evalue": "name 'real_stock_price' is not defined",
     "output_type": "error",
     "traceback": [
      "\u001b[1;31m---------------------------------------------------------------------------\u001b[0m",
      "\u001b[1;31mNameError\u001b[0m                                 Traceback (most recent call last)",
      "Input \u001b[1;32mIn [1]\u001b[0m, in \u001b[0;36m<cell line: 5>\u001b[1;34m()\u001b[0m\n\u001b[0;32m      2\u001b[0m \u001b[38;5;28;01mimport\u001b[39;00m \u001b[38;5;21;01mnumpy\u001b[39;00m \u001b[38;5;28;01mas\u001b[39;00m \u001b[38;5;21;01mnp\u001b[39;00m\n\u001b[0;32m      4\u001b[0m \u001b[38;5;66;03m# Assuming 'actual_values' and 'predicted_values' are lists or arrays of actual and predicted values\u001b[39;00m\n\u001b[1;32m----> 5\u001b[0m actual_values \u001b[38;5;241m=\u001b[39m \u001b[43mreal_stock_price\u001b[49m[:\u001b[38;5;241m100\u001b[39m]\n\u001b[0;32m      6\u001b[0m predicted_values \u001b[38;5;241m=\u001b[39m predicted_stock_price\n\u001b[0;32m      8\u001b[0m mae \u001b[38;5;241m=\u001b[39m mean_absolute_error(actual_values, predicted_values)\n",
      "\u001b[1;31mNameError\u001b[0m: name 'real_stock_price' is not defined"
     ]
    }
   ],
   "source": [
    "from sklearn.metrics import mean_absolute_error, mean_squared_error, r2_score\n",
    "import numpy as np\n",
    "\n",
    "# Assuming 'actual_values' and 'predicted_values' are lists or arrays of actual and predicted values\n",
    "actual_values = real_stock_price[:100]\n",
    "predicted_values = predicted_stock_price\n",
    "\n",
    "mae = mean_absolute_error(actual_values, predicted_values)\n",
    "mse = mean_squared_error(actual_values, predicted_values)\n",
    "rmse = np.sqrt(mse)\n",
    "r2 = r2_score(actual_values, predicted_values)\n",
    "\n",
    "# Calculate accuracy in percentage\n",
    "accuracy_percentage = ((max(actual_values) - mae) / max(actual_values)) * 100\n",
    "\n",
    "print(\"Mean Absolute Error (MAE):\", mae)\n",
    "print(\"Mean Squared Error (MSE):\", mse)\n",
    "print(\"Root Mean Squared Error (RMSE):\", rmse)\n",
    "print(\"R-squared (R2) Score:\", r2)\n",
    "print(\"Accuracy Percentage:\", accuracy_percentage)\n"
   ]
  },
  {
   "cell_type": "code",
   "execution_count": 120,
   "id": "ba37c578-7f48-4d1a-9d3a-b0d8baa59518",
   "metadata": {},
   "outputs": [
    {
     "name": "stdout",
     "output_type": "stream",
     "text": [
      "Accuracy: 89.97850617115164 %\n"
     ]
    }
   ],
   "source": [
    "from sklearn.metrics import mean_absolute_error\n",
    "\n",
    "# Assuming actual_values and predicted_values are arrays or lists of actual and predicted values\n",
    "actual_values = real_stock_price[:100]\n",
    "predicted_values = predicted_stock_price#inverted_predicted_data\n",
    "\n",
    "# Calculate Mean Absolute Error (MAE)\n",
    "mae = mean_absolute_error(actual_values, predicted_values)\n",
    "\n",
    "# Calculate accuracy in percentage\n",
    "accuracy_percentage = (1 - (mae / np.max(actual_values))) * 100\n",
    "\n",
    "print(\"Accuracy:\", accuracy_percentage, \"%\")\n"
   ]
  },
  {
   "cell_type": "code",
   "execution_count": 31,
   "id": "42500e11-c306-418f-8b79-2da73050f839",
   "metadata": {},
   "outputs": [
    {
     "name": "stdout",
     "output_type": "stream",
     "text": [
      "Accuracy: 96.7517623307465 %\n"
     ]
    }
   ],
   "source": [
    "from sklearn.metrics import mean_absolute_error\n",
    "\n",
    "# Assuming actual_values and predicted_values are arrays or lists of actual and predicted values\n",
    "actual_values = np.array([[272.75], [254.], [258.5], [251.5], [250.1000061], [258.], [256.20001221], [256.95001221], [256.45001221], [259.29998779], [256.3999939], [264.3999939], [270.3999939], [270.75], [276.], [265.79998779], [284.95001221], [283.1499939], [283.], [293.3500061], [312.3999939], [316.], [313.8999939], [318.95001221], [318.25], [316.20001221], [314.70001221], [316.04998779], [306.95001221], [312.], [324.], [325.79998779], [332.], [329.25], [331.45001221], [329.], [338.], [335.95001221], [346.8500061], [348.8500061], [343.8999939], [341.], [334.1000061], [343.], [336.70001221], [318.95001221], [317.20001221], [311.20001221], [314.], [325.20001221], [335.95001221], [333.25], [335.], [327.3500061], [330.3500061], [335.70001221], [333.20001221], [333.], [333.3999939], [337.75]])\n",
    "\n",
    "predicted_values = np.array([[269.9116], [268.13873], [265.77136], [263.5487], [263.90884], [272.91556], [272.44824], [270.8785], [267.37146], [265.74707], [269.53326], [268.4025], [262.1271], [264.17484], [271.7662], [277.3935], [283.26492], [284.79697], [284.5202], [282.4826], [281.70078], [292.6072], [296.634], [303.71396], [315.3542], [321.99408], [321.63306], [324.9416], [326.00806], [328.367], [333.09418], [335.50134], [334.16983], [334.44516], [336.48602], [341.22516], [349.09772], [346.51706], [341.4954], [337.96985], [338.621], [343.53644], [349.1593], [353.10526], [352.3743], [349.85455], [348.6563], [347.02594], [342.50192], [339.82056], [338.1791], [338.99146], [343.40744], [345.81033], [347.9566], [334.67624], [318.38043], [320.1582], [333.10117], [342.29376]])\n",
    "\n",
    "# Calculate Mean Absolute Error (MAE)\n",
    "mae = mean_absolute_error(actual_values, predicted_values)\n",
    "\n",
    "# Calculate accuracy percentage\n",
    "accuracy_percentage = (1 - (mae / np.max(actual_values))) * 100\n",
    "\n",
    "print(\"Accuracy:\", accuracy_percentage, \"%\")\n"
   ]
  },
  {
   "cell_type": "code",
   "execution_count": 33,
   "id": "33d58881-4880-4c3d-9a54-bf7ed9500e5f",
   "metadata": {},
   "outputs": [
    {
     "name": "stdout",
     "output_type": "stream",
     "text": [
      "Value 1:\n",
      "  Actual: 272.75\n",
      "  Predicted: 269.9115905761719\n",
      "  Difference: 2.838409423828125\n",
      "  Accuracy: 98.96%\n",
      "Value 2:\n",
      "  Actual: 254.0\n",
      "  Predicted: 268.13873291015625\n",
      "  Difference: 14.13873291015625\n",
      "  Accuracy: 94.43%\n",
      "Value 3:\n",
      "  Actual: 258.5\n",
      "  Predicted: 265.7713623046875\n",
      "  Difference: 7.2713623046875\n",
      "  Accuracy: 97.19%\n",
      "Value 4:\n",
      "  Actual: 251.5\n",
      "  Predicted: 263.5487060546875\n",
      "  Difference: 12.0487060546875\n",
      "  Accuracy: 95.21%\n",
      "Value 5:\n",
      "  Actual: 250.10000610351562\n",
      "  Predicted: 263.9088439941406\n",
      "  Difference: 13.808837890625\n",
      "  Accuracy: 94.48%\n",
      "Value 6:\n",
      "  Actual: 258.0\n",
      "  Predicted: 272.9155578613281\n",
      "  Difference: 14.915557861328125\n",
      "  Accuracy: 94.22%\n",
      "Value 7:\n",
      "  Actual: 256.20001220703125\n",
      "  Predicted: 272.4482421875\n",
      "  Difference: 16.24822998046875\n",
      "  Accuracy: 93.66%\n",
      "Value 8:\n",
      "  Actual: 256.95001220703125\n",
      "  Predicted: 270.8785095214844\n",
      "  Difference: 13.928497314453125\n",
      "  Accuracy: 94.58%\n",
      "Value 9:\n",
      "  Actual: 256.45001220703125\n",
      "  Predicted: 267.3714599609375\n",
      "  Difference: 10.92144775390625\n",
      "  Accuracy: 95.74%\n",
      "Value 10:\n",
      "  Actual: 259.29998779296875\n",
      "  Predicted: 265.7470703125\n",
      "  Difference: 6.44708251953125\n",
      "  Accuracy: 97.51%\n",
      "Value 11:\n",
      "  Actual: 256.3999938964844\n",
      "  Predicted: 269.53326416015625\n",
      "  Difference: 13.133270263671875\n",
      "  Accuracy: 94.88%\n",
      "Value 12:\n",
      "  Actual: 264.3999938964844\n",
      "  Predicted: 268.4024963378906\n",
      "  Difference: 4.00250244140625\n",
      "  Accuracy: 98.49%\n",
      "Value 13:\n",
      "  Actual: 270.3999938964844\n",
      "  Predicted: 262.1271057128906\n",
      "  Difference: 8.27288818359375\n",
      "  Accuracy: 96.94%\n",
      "Value 14:\n",
      "  Actual: 270.75\n",
      "  Predicted: 264.1748352050781\n",
      "  Difference: 6.575164794921875\n",
      "  Accuracy: 97.57%\n",
      "Value 15:\n",
      "  Actual: 276.0\n",
      "  Predicted: 271.7662048339844\n",
      "  Difference: 4.233795166015625\n",
      "  Accuracy: 98.47%\n",
      "Value 16:\n",
      "  Actual: 265.79998779296875\n",
      "  Predicted: 277.39349365234375\n",
      "  Difference: 11.593505859375\n",
      "  Accuracy: 95.64%\n",
      "Value 17:\n",
      "  Actual: 284.95001220703125\n",
      "  Predicted: 283.2649230957031\n",
      "  Difference: 1.685089111328125\n",
      "  Accuracy: 99.41%\n",
      "Value 18:\n",
      "  Actual: 283.1499938964844\n",
      "  Predicted: 284.7969665527344\n",
      "  Difference: 1.64697265625\n",
      "  Accuracy: 99.42%\n",
      "Value 19:\n",
      "  Actual: 283.0\n",
      "  Predicted: 284.52020263671875\n",
      "  Difference: 1.52020263671875\n",
      "  Accuracy: 99.46%\n",
      "Value 20:\n",
      "  Actual: 293.3500061035156\n",
      "  Predicted: 282.48260498046875\n",
      "  Difference: 10.867401123046875\n",
      "  Accuracy: 96.30%\n",
      "Value 21:\n",
      "  Actual: 312.3999938964844\n",
      "  Predicted: 281.7007751464844\n",
      "  Difference: 30.69921875\n",
      "  Accuracy: 90.17%\n",
      "Value 22:\n",
      "  Actual: 316.0\n",
      "  Predicted: 292.6072082519531\n",
      "  Difference: 23.392791748046875\n",
      "  Accuracy: 92.60%\n",
      "Value 23:\n",
      "  Actual: 313.8999938964844\n",
      "  Predicted: 296.6340026855469\n",
      "  Difference: 17.2659912109375\n",
      "  Accuracy: 94.50%\n",
      "Value 24:\n",
      "  Actual: 318.95001220703125\n",
      "  Predicted: 303.7139587402344\n",
      "  Difference: 15.236053466796875\n",
      "  Accuracy: 95.22%\n",
      "Value 25:\n",
      "  Actual: 318.25\n",
      "  Predicted: 315.35418701171875\n",
      "  Difference: 2.89581298828125\n",
      "  Accuracy: 99.09%\n",
      "Value 26:\n",
      "  Actual: 316.20001220703125\n",
      "  Predicted: 321.99407958984375\n",
      "  Difference: 5.7940673828125\n",
      "  Accuracy: 98.17%\n",
      "Value 27:\n",
      "  Actual: 314.70001220703125\n",
      "  Predicted: 321.633056640625\n",
      "  Difference: 6.93304443359375\n",
      "  Accuracy: 97.80%\n",
      "Value 28:\n",
      "  Actual: 316.04998779296875\n",
      "  Predicted: 324.94158935546875\n",
      "  Difference: 8.8916015625\n",
      "  Accuracy: 97.19%\n",
      "Value 29:\n",
      "  Actual: 306.95001220703125\n",
      "  Predicted: 326.008056640625\n",
      "  Difference: 19.05804443359375\n",
      "  Accuracy: 93.79%\n",
      "Value 30:\n",
      "  Actual: 312.0\n",
      "  Predicted: 328.36700439453125\n",
      "  Difference: 16.36700439453125\n",
      "  Accuracy: 94.75%\n",
      "Value 31:\n",
      "  Actual: 324.0\n",
      "  Predicted: 333.09417724609375\n",
      "  Difference: 9.09417724609375\n",
      "  Accuracy: 97.19%\n",
      "Value 32:\n",
      "  Actual: 325.79998779296875\n",
      "  Predicted: 335.5013427734375\n",
      "  Difference: 9.70135498046875\n",
      "  Accuracy: 97.02%\n",
      "Value 33:\n",
      "  Actual: 332.0\n",
      "  Predicted: 334.1698303222656\n",
      "  Difference: 2.169830322265625\n",
      "  Accuracy: 99.35%\n",
      "Value 34:\n",
      "  Actual: 329.25\n",
      "  Predicted: 334.4451599121094\n",
      "  Difference: 5.195159912109375\n",
      "  Accuracy: 98.42%\n",
      "Value 35:\n",
      "  Actual: 331.45001220703125\n",
      "  Predicted: 336.48602294921875\n",
      "  Difference: 5.0360107421875\n",
      "  Accuracy: 98.48%\n",
      "Value 36:\n",
      "  Actual: 329.0\n",
      "  Predicted: 341.22515869140625\n",
      "  Difference: 12.22515869140625\n",
      "  Accuracy: 96.28%\n",
      "Value 37:\n",
      "  Actual: 338.0\n",
      "  Predicted: 349.09771728515625\n",
      "  Difference: 11.09771728515625\n",
      "  Accuracy: 96.72%\n",
      "Value 38:\n",
      "  Actual: 335.95001220703125\n",
      "  Predicted: 346.5170593261719\n",
      "  Difference: 10.567047119140625\n",
      "  Accuracy: 96.85%\n",
      "Value 39:\n",
      "  Actual: 346.8500061035156\n",
      "  Predicted: 341.4953918457031\n",
      "  Difference: 5.3546142578125\n",
      "  Accuracy: 98.46%\n",
      "Value 40:\n",
      "  Actual: 348.8500061035156\n",
      "  Predicted: 337.9698486328125\n",
      "  Difference: 10.880157470703125\n",
      "  Accuracy: 96.88%\n",
      "Value 41:\n",
      "  Actual: 343.8999938964844\n",
      "  Predicted: 338.6210021972656\n",
      "  Difference: 5.27899169921875\n",
      "  Accuracy: 98.46%\n",
      "Value 42:\n",
      "  Actual: 341.0\n",
      "  Predicted: 343.53643798828125\n",
      "  Difference: 2.53643798828125\n",
      "  Accuracy: 99.26%\n",
      "Value 43:\n",
      "  Actual: 334.1000061035156\n",
      "  Predicted: 349.1593017578125\n",
      "  Difference: 15.059295654296875\n",
      "  Accuracy: 95.49%\n",
      "Value 44:\n",
      "  Actual: 343.0\n",
      "  Predicted: 353.1052551269531\n",
      "  Difference: 10.105255126953125\n",
      "  Accuracy: 97.05%\n",
      "Value 45:\n",
      "  Actual: 336.70001220703125\n",
      "  Predicted: 352.3742980957031\n",
      "  Difference: 15.674285888671875\n",
      "  Accuracy: 95.34%\n",
      "Value 46:\n",
      "  Actual: 318.95001220703125\n",
      "  Predicted: 349.85455322265625\n",
      "  Difference: 30.904541015625\n",
      "  Accuracy: 90.31%\n",
      "Value 47:\n",
      "  Actual: 317.20001220703125\n",
      "  Predicted: 348.65631103515625\n",
      "  Difference: 31.456298828125\n",
      "  Accuracy: 90.08%\n",
      "Value 48:\n",
      "  Actual: 311.20001220703125\n",
      "  Predicted: 347.02593994140625\n",
      "  Difference: 35.825927734375\n",
      "  Accuracy: 88.49%\n",
      "Value 49:\n",
      "  Actual: 314.0\n",
      "  Predicted: 342.5019226074219\n",
      "  Difference: 28.501922607421875\n",
      "  Accuracy: 90.92%\n",
      "Value 50:\n",
      "  Actual: 325.20001220703125\n",
      "  Predicted: 339.820556640625\n",
      "  Difference: 14.62054443359375\n",
      "  Accuracy: 95.50%\n",
      "Value 51:\n",
      "  Actual: 335.95001220703125\n",
      "  Predicted: 338.1791076660156\n",
      "  Difference: 2.229095458984375\n",
      "  Accuracy: 99.34%\n",
      "Value 52:\n",
      "  Actual: 333.25\n",
      "  Predicted: 338.991455078125\n",
      "  Difference: 5.741455078125\n",
      "  Accuracy: 98.28%\n",
      "Value 53:\n",
      "  Actual: 335.0\n",
      "  Predicted: 343.4074401855469\n",
      "  Difference: 8.407440185546875\n",
      "  Accuracy: 97.49%\n",
      "Value 54:\n",
      "  Actual: 327.3500061035156\n",
      "  Predicted: 345.8103332519531\n",
      "  Difference: 18.4603271484375\n",
      "  Accuracy: 94.36%\n",
      "Value 55:\n",
      "  Actual: 330.3500061035156\n",
      "  Predicted: 347.95660400390625\n",
      "  Difference: 17.606597900390625\n",
      "  Accuracy: 94.67%\n",
      "Value 56:\n",
      "  Actual: 335.70001220703125\n",
      "  Predicted: 334.6762390136719\n",
      "  Difference: 1.023773193359375\n",
      "  Accuracy: 99.70%\n",
      "Value 57:\n",
      "  Actual: 333.20001220703125\n",
      "  Predicted: 318.38043212890625\n",
      "  Difference: 14.819580078125\n",
      "  Accuracy: 95.55%\n",
      "Value 58:\n",
      "  Actual: 333.0\n",
      "  Predicted: 320.158203125\n",
      "  Difference: 12.841796875\n",
      "  Accuracy: 96.14%\n",
      "Value 59:\n",
      "  Actual: 333.3999938964844\n",
      "  Predicted: 333.1011657714844\n",
      "  Difference: 0.298828125\n",
      "  Accuracy: 99.91%\n",
      "Value 60:\n",
      "  Actual: 337.75\n",
      "  Predicted: 342.29376220703125\n",
      "  Difference: 4.54376220703125\n",
      "  Accuracy: 98.65%\n"
     ]
    }
   ],
   "source": [
    "from sklearn.metrics import mean_absolute_error\n",
    "\n",
    "# Convert the predicted and actual values to numpy arrays\n",
    "predicted_values = inverted_predicted_data\n",
    "actual_values = real_stock_price\n",
    "\n",
    "# Calculate the absolute error\n",
    "absolute_errors = np.abs(predicted_values - actual_values)\n",
    "\n",
    "# Calculate the accuracy percentage for each predicted value\n",
    "accuracies = (1 - absolute_errors / actual_values) * 100\n",
    "\n",
    "# Print the actual values, predicted values, their difference, and accuracy\n",
    "for i, (actual, predicted, diff, accuracy) in enumerate(zip(actual_values, predicted_values, absolute_errors, accuracies)):\n",
    "    print(f\"Value {i + 1}:\")\n",
    "    print(f\"  Actual: {actual[0]}\")\n",
    "    print(f\"  Predicted: {predicted[0]}\")\n",
    "    print(f\"  Difference: {diff[0]}\")\n",
    "    print(f\"  Accuracy: {accuracy[0]:.2f}%\")\n",
    "\n"
   ]
  },
  {
   "cell_type": "code",
   "execution_count": 75,
   "id": "9a66f13c-4003-4185-9e13-dfe5d5b74103",
   "metadata": {},
   "outputs": [
    {
     "data": {
      "text/plain": [
       "array([[334.85013],\n",
       "       [331.54303],\n",
       "       [329.28702],\n",
       "       [324.91977],\n",
       "       [330.41745],\n",
       "       [327.6312 ],\n",
       "       [315.4172 ],\n",
       "       [311.04178],\n",
       "       [307.0923 ],\n",
       "       [307.53818],\n",
       "       [314.7706 ],\n",
       "       [323.48047],\n",
       "       [322.55966],\n",
       "       [322.61252],\n",
       "       [318.00458],\n",
       "       [319.07126],\n",
       "       [323.67612],\n",
       "       [323.204  ],\n",
       "       [322.66583],\n",
       "       [322.93344],\n",
       "       [325.99408],\n",
       "       [324.65555],\n",
       "       [324.029  ],\n",
       "       [326.34857],\n",
       "       [322.84375],\n",
       "       [317.29913],\n",
       "       [308.60162],\n",
       "       [315.29904],\n",
       "       [321.0898 ],\n",
       "       [323.3474 ],\n",
       "       [320.3685 ],\n",
       "       [318.87726],\n",
       "       [315.7078 ],\n",
       "       [308.38538],\n",
       "       [311.14218],\n",
       "       [308.6022 ],\n",
       "       [309.07962],\n",
       "       [308.7531 ],\n",
       "       [312.9793 ],\n",
       "       [312.60727],\n",
       "       [310.09464],\n",
       "       [309.2554 ],\n",
       "       [308.6691 ],\n",
       "       [306.77274],\n",
       "       [299.93335],\n",
       "       [297.21805],\n",
       "       [299.2897 ],\n",
       "       [302.97653],\n",
       "       [310.17484],\n",
       "       [310.9288 ],\n",
       "       [311.01526],\n",
       "       [316.69678],\n",
       "       [313.6363 ],\n",
       "       [316.2664 ],\n",
       "       [313.21463],\n",
       "       [308.85696],\n",
       "       [312.10587],\n",
       "       [311.95898],\n",
       "       [315.42334],\n",
       "       [316.48853],\n",
       "       [315.6672 ],\n",
       "       [317.323  ],\n",
       "       [308.1758 ],\n",
       "       [304.38232],\n",
       "       [293.93256],\n",
       "       [288.8001 ],\n",
       "       [287.28577],\n",
       "       [275.42435],\n",
       "       [264.18872],\n",
       "       [255.56339],\n",
       "       [242.91159],\n",
       "       [222.99078],\n",
       "       [215.81068],\n",
       "       [218.47214],\n",
       "       [220.47661],\n",
       "       [213.939  ],\n",
       "       [206.54031],\n",
       "       [197.3241 ],\n",
       "       [189.95557],\n",
       "       [182.5443 ],\n",
       "       [180.20192],\n",
       "       [185.1893 ],\n",
       "       [188.72548],\n",
       "       [189.51517],\n",
       "       [189.50688],\n",
       "       [187.68385],\n",
       "       [184.50137],\n",
       "       [181.29274],\n",
       "       [180.55742],\n",
       "       [181.3743 ],\n",
       "       [182.51659],\n",
       "       [181.97089],\n",
       "       [184.33733],\n",
       "       [187.81433],\n",
       "       [188.55737],\n",
       "       [186.61737],\n",
       "       [184.72752],\n",
       "       [182.85722],\n",
       "       [181.28651],\n",
       "       [179.94469]], dtype=float32)"
      ]
     },
     "execution_count": 75,
     "metadata": {},
     "output_type": "execute_result"
    }
   ],
   "source": [
    "predicted_stock_price"
   ]
  },
  {
   "cell_type": "code",
   "execution_count": 81,
   "id": "49c76acf-c213-47ed-a7e9-8c114da6cddf",
   "metadata": {},
   "outputs": [
    {
     "data": {
      "text/html": [
       "<div>\n",
       "<style scoped>\n",
       "    .dataframe tbody tr th:only-of-type {\n",
       "        vertical-align: middle;\n",
       "    }\n",
       "\n",
       "    .dataframe tbody tr th {\n",
       "        vertical-align: top;\n",
       "    }\n",
       "\n",
       "    .dataframe thead th {\n",
       "        text-align: right;\n",
       "    }\n",
       "</style>\n",
       "<table border=\"1\" class=\"dataframe\">\n",
       "  <thead>\n",
       "    <tr style=\"text-align: right;\">\n",
       "      <th></th>\n",
       "      <th>Open</th>\n",
       "      <th>High</th>\n",
       "      <th>Low</th>\n",
       "      <th>Close</th>\n",
       "      <th>Adj Close</th>\n",
       "      <th>Volume</th>\n",
       "      <th>Date</th>\n",
       "    </tr>\n",
       "    <tr>\n",
       "      <th>Date</th>\n",
       "      <th></th>\n",
       "      <th></th>\n",
       "      <th></th>\n",
       "      <th></th>\n",
       "      <th></th>\n",
       "      <th></th>\n",
       "      <th></th>\n",
       "    </tr>\n",
       "  </thead>\n",
       "  <tbody>\n",
       "    <tr>\n",
       "      <th>2022-12-30</th>\n",
       "      <td>615.250000</td>\n",
       "      <td>620.549988</td>\n",
       "      <td>611.349976</td>\n",
       "      <td>613.700012</td>\n",
       "      <td>602.001587</td>\n",
       "      <td>13052895</td>\n",
       "      <td>2022-12-30</td>\n",
       "    </tr>\n",
       "    <tr>\n",
       "      <th>2022-08-04</th>\n",
       "      <td>543.650024</td>\n",
       "      <td>544.000000</td>\n",
       "      <td>524.200012</td>\n",
       "      <td>533.250000</td>\n",
       "      <td>523.085144</td>\n",
       "      <td>18072293</td>\n",
       "      <td>2022-08-04</td>\n",
       "    </tr>\n",
       "    <tr>\n",
       "      <th>2022-03-11</th>\n",
       "      <td>466.399994</td>\n",
       "      <td>474.799988</td>\n",
       "      <td>462.000000</td>\n",
       "      <td>470.350006</td>\n",
       "      <td>454.294373</td>\n",
       "      <td>22091309</td>\n",
       "      <td>2022-03-11</td>\n",
       "    </tr>\n",
       "    <tr>\n",
       "      <th>2021-10-18</th>\n",
       "      <td>494.000000</td>\n",
       "      <td>501.000000</td>\n",
       "      <td>491.700012</td>\n",
       "      <td>497.950012</td>\n",
       "      <td>480.952240</td>\n",
       "      <td>20084248</td>\n",
       "      <td>2021-10-18</td>\n",
       "    </tr>\n",
       "    <tr>\n",
       "      <th>2021-05-25</th>\n",
       "      <td>415.100006</td>\n",
       "      <td>415.500000</td>\n",
       "      <td>408.500000</td>\n",
       "      <td>412.350006</td>\n",
       "      <td>394.630798</td>\n",
       "      <td>56048127</td>\n",
       "      <td>2021-05-25</td>\n",
       "    </tr>\n",
       "    <tr>\n",
       "      <th>2020-12-24</th>\n",
       "      <td>265.000000</td>\n",
       "      <td>268.850006</td>\n",
       "      <td>264.649994</td>\n",
       "      <td>266.850006</td>\n",
       "      <td>255.383102</td>\n",
       "      <td>28585509</td>\n",
       "      <td>2020-12-24</td>\n",
       "    </tr>\n",
       "    <tr>\n",
       "      <th>2020-08-04</th>\n",
       "      <td>193.350006</td>\n",
       "      <td>193.800003</td>\n",
       "      <td>190.500000</td>\n",
       "      <td>191.600006</td>\n",
       "      <td>183.366714</td>\n",
       "      <td>43866676</td>\n",
       "      <td>2020-08-04</td>\n",
       "    </tr>\n",
       "    <tr>\n",
       "      <th>2020-03-06</th>\n",
       "      <td>268.000000</td>\n",
       "      <td>274.399994</td>\n",
       "      <td>253.949997</td>\n",
       "      <td>270.500000</td>\n",
       "      <td>258.876251</td>\n",
       "      <td>106043172</td>\n",
       "      <td>2020-03-06</td>\n",
       "    </tr>\n",
       "  </tbody>\n",
       "</table>\n",
       "</div>"
      ],
      "text/plain": [
       "                  Open        High         Low       Close   Adj Close  \\\n",
       "Date                                                                     \n",
       "2022-12-30  615.250000  620.549988  611.349976  613.700012  602.001587   \n",
       "2022-08-04  543.650024  544.000000  524.200012  533.250000  523.085144   \n",
       "2022-03-11  466.399994  474.799988  462.000000  470.350006  454.294373   \n",
       "2021-10-18  494.000000  501.000000  491.700012  497.950012  480.952240   \n",
       "2021-05-25  415.100006  415.500000  408.500000  412.350006  394.630798   \n",
       "2020-12-24  265.000000  268.850006  264.649994  266.850006  255.383102   \n",
       "2020-08-04  193.350006  193.800003  190.500000  191.600006  183.366714   \n",
       "2020-03-06  268.000000  274.399994  253.949997  270.500000  258.876251   \n",
       "\n",
       "               Volume       Date  \n",
       "Date                              \n",
       "2022-12-30   13052895 2022-12-30  \n",
       "2022-08-04   18072293 2022-08-04  \n",
       "2022-03-11   22091309 2022-03-11  \n",
       "2021-10-18   20084248 2021-10-18  \n",
       "2021-05-25   56048127 2021-05-25  \n",
       "2020-12-24   28585509 2020-12-24  \n",
       "2020-08-04   43866676 2020-08-04  \n",
       "2020-03-06  106043172 2020-03-06  "
      ]
     },
     "execution_count": 81,
     "metadata": {},
     "output_type": "execute_result"
    }
   ],
   "source": [
    "data6[::-100]"
   ]
  },
  {
   "cell_type": "code",
   "execution_count": 84,
   "id": "5812f8bb-f1e6-45b1-b6df-a2f6e02481e6",
   "metadata": {},
   "outputs": [],
   "source": [
    "from sklearn.metrics import accuracy_score"
   ]
  },
  {
   "cell_type": "code",
   "execution_count": 92,
   "id": "edc76aa0-15ff-4797-b824-7bbef90ed48e",
   "metadata": {},
   "outputs": [
    {
     "ename": "ValueError",
     "evalue": "continuous is not supported",
     "output_type": "error",
     "traceback": [
      "\u001b[1;31m---------------------------------------------------------------------------\u001b[0m",
      "\u001b[1;31mValueError\u001b[0m                                Traceback (most recent call last)",
      "Input \u001b[1;32mIn [92]\u001b[0m, in \u001b[0;36m<cell line: 1>\u001b[1;34m()\u001b[0m\n\u001b[1;32m----> 1\u001b[0m \u001b[43maccuracy_score\u001b[49m\u001b[43m(\u001b[49m\u001b[43mpredicted_stock_price\u001b[49m\u001b[43m,\u001b[49m\u001b[43mreal_stock_price\u001b[49m\u001b[43m[\u001b[49m\u001b[43m:\u001b[49m\u001b[38;5;241;43m100\u001b[39;49m\u001b[43m]\u001b[49m\u001b[43m)\u001b[49m\n",
      "File \u001b[1;32m~\\AppData\\Local\\Programs\\Python\\Python310\\lib\\site-packages\\sklearn\\utils\\_param_validation.py:192\u001b[0m, in \u001b[0;36mvalidate_params.<locals>.decorator.<locals>.wrapper\u001b[1;34m(*args, **kwargs)\u001b[0m\n\u001b[0;32m    187\u001b[0m validate_parameter_constraints(\n\u001b[0;32m    188\u001b[0m     parameter_constraints, params, caller_name\u001b[38;5;241m=\u001b[39mfunc\u001b[38;5;241m.\u001b[39m\u001b[38;5;18m__qualname__\u001b[39m\n\u001b[0;32m    189\u001b[0m )\n\u001b[0;32m    191\u001b[0m \u001b[38;5;28;01mtry\u001b[39;00m:\n\u001b[1;32m--> 192\u001b[0m     \u001b[38;5;28;01mreturn\u001b[39;00m func(\u001b[38;5;241m*\u001b[39margs, \u001b[38;5;241m*\u001b[39m\u001b[38;5;241m*\u001b[39mkwargs)\n\u001b[0;32m    193\u001b[0m \u001b[38;5;28;01mexcept\u001b[39;00m InvalidParameterError \u001b[38;5;28;01mas\u001b[39;00m e:\n\u001b[0;32m    194\u001b[0m     \u001b[38;5;66;03m# When the function is just a wrapper around an estimator, we allow\u001b[39;00m\n\u001b[0;32m    195\u001b[0m     \u001b[38;5;66;03m# the function to delegate validation to the estimator, but we replace\u001b[39;00m\n\u001b[0;32m    196\u001b[0m     \u001b[38;5;66;03m# the name of the estimator by the name of the function in the error\u001b[39;00m\n\u001b[0;32m    197\u001b[0m     \u001b[38;5;66;03m# message to avoid confusion.\u001b[39;00m\n\u001b[0;32m    198\u001b[0m     msg \u001b[38;5;241m=\u001b[39m re\u001b[38;5;241m.\u001b[39msub(\n\u001b[0;32m    199\u001b[0m         \u001b[38;5;124mr\u001b[39m\u001b[38;5;124m\"\u001b[39m\u001b[38;5;124mparameter of \u001b[39m\u001b[38;5;124m\\\u001b[39m\u001b[38;5;124mw+ must be\u001b[39m\u001b[38;5;124m\"\u001b[39m,\n\u001b[0;32m    200\u001b[0m         \u001b[38;5;124mf\u001b[39m\u001b[38;5;124m\"\u001b[39m\u001b[38;5;124mparameter of \u001b[39m\u001b[38;5;132;01m{\u001b[39;00mfunc\u001b[38;5;241m.\u001b[39m\u001b[38;5;18m__qualname__\u001b[39m\u001b[38;5;132;01m}\u001b[39;00m\u001b[38;5;124m must be\u001b[39m\u001b[38;5;124m\"\u001b[39m,\n\u001b[0;32m    201\u001b[0m         \u001b[38;5;28mstr\u001b[39m(e),\n\u001b[0;32m    202\u001b[0m     )\n",
      "File \u001b[1;32m~\\AppData\\Local\\Programs\\Python\\Python310\\lib\\site-packages\\sklearn\\metrics\\_classification.py:221\u001b[0m, in \u001b[0;36maccuracy_score\u001b[1;34m(y_true, y_pred, normalize, sample_weight)\u001b[0m\n\u001b[0;32m    155\u001b[0m \u001b[38;5;250m\u001b[39m\u001b[38;5;124;03m\"\"\"Accuracy classification score.\u001b[39;00m\n\u001b[0;32m    156\u001b[0m \n\u001b[0;32m    157\u001b[0m \u001b[38;5;124;03mIn multilabel classification, this function computes subset accuracy:\u001b[39;00m\n\u001b[1;32m   (...)\u001b[0m\n\u001b[0;32m    217\u001b[0m \u001b[38;5;124;03m0.5\u001b[39;00m\n\u001b[0;32m    218\u001b[0m \u001b[38;5;124;03m\"\"\"\u001b[39;00m\n\u001b[0;32m    220\u001b[0m \u001b[38;5;66;03m# Compute accuracy for each possible representation\u001b[39;00m\n\u001b[1;32m--> 221\u001b[0m y_type, y_true, y_pred \u001b[38;5;241m=\u001b[39m \u001b[43m_check_targets\u001b[49m\u001b[43m(\u001b[49m\u001b[43my_true\u001b[49m\u001b[43m,\u001b[49m\u001b[43m \u001b[49m\u001b[43my_pred\u001b[49m\u001b[43m)\u001b[49m\n\u001b[0;32m    222\u001b[0m check_consistent_length(y_true, y_pred, sample_weight)\n\u001b[0;32m    223\u001b[0m \u001b[38;5;28;01mif\u001b[39;00m y_type\u001b[38;5;241m.\u001b[39mstartswith(\u001b[38;5;124m\"\u001b[39m\u001b[38;5;124mmultilabel\u001b[39m\u001b[38;5;124m\"\u001b[39m):\n",
      "File \u001b[1;32m~\\AppData\\Local\\Programs\\Python\\Python310\\lib\\site-packages\\sklearn\\metrics\\_classification.py:106\u001b[0m, in \u001b[0;36m_check_targets\u001b[1;34m(y_true, y_pred)\u001b[0m\n\u001b[0;32m    104\u001b[0m \u001b[38;5;66;03m# No metrics support \"multiclass-multioutput\" format\u001b[39;00m\n\u001b[0;32m    105\u001b[0m \u001b[38;5;28;01mif\u001b[39;00m y_type \u001b[38;5;129;01mnot\u001b[39;00m \u001b[38;5;129;01min\u001b[39;00m [\u001b[38;5;124m\"\u001b[39m\u001b[38;5;124mbinary\u001b[39m\u001b[38;5;124m\"\u001b[39m, \u001b[38;5;124m\"\u001b[39m\u001b[38;5;124mmulticlass\u001b[39m\u001b[38;5;124m\"\u001b[39m, \u001b[38;5;124m\"\u001b[39m\u001b[38;5;124mmultilabel-indicator\u001b[39m\u001b[38;5;124m\"\u001b[39m]:\n\u001b[1;32m--> 106\u001b[0m     \u001b[38;5;28;01mraise\u001b[39;00m \u001b[38;5;167;01mValueError\u001b[39;00m(\u001b[38;5;124m\"\u001b[39m\u001b[38;5;132;01m{0}\u001b[39;00m\u001b[38;5;124m is not supported\u001b[39m\u001b[38;5;124m\"\u001b[39m\u001b[38;5;241m.\u001b[39mformat(y_type))\n\u001b[0;32m    108\u001b[0m \u001b[38;5;28;01mif\u001b[39;00m y_type \u001b[38;5;129;01min\u001b[39;00m [\u001b[38;5;124m\"\u001b[39m\u001b[38;5;124mbinary\u001b[39m\u001b[38;5;124m\"\u001b[39m, \u001b[38;5;124m\"\u001b[39m\u001b[38;5;124mmulticlass\u001b[39m\u001b[38;5;124m\"\u001b[39m]:\n\u001b[0;32m    109\u001b[0m     y_true \u001b[38;5;241m=\u001b[39m column_or_1d(y_true)\n",
      "\u001b[1;31mValueError\u001b[0m: continuous is not supported"
     ]
    }
   ],
   "source": [
    "accuracy_score(predicted_stock_price,real_stock_price[:100])"
   ]
  },
  {
   "cell_type": "code",
   "execution_count": 87,
   "id": "ef648296-e2d4-45ba-a2e5-8fb3f0e3135c",
   "metadata": {},
   "outputs": [
    {
     "data": {
      "text/html": [
       "<div>\n",
       "<style scoped>\n",
       "    .dataframe tbody tr th:only-of-type {\n",
       "        vertical-align: middle;\n",
       "    }\n",
       "\n",
       "    .dataframe tbody tr th {\n",
       "        vertical-align: top;\n",
       "    }\n",
       "\n",
       "    .dataframe thead th {\n",
       "        text-align: right;\n",
       "    }\n",
       "</style>\n",
       "<table border=\"1\" class=\"dataframe\">\n",
       "  <thead>\n",
       "    <tr style=\"text-align: right;\">\n",
       "      <th></th>\n",
       "      <th>Open</th>\n",
       "      <th>High</th>\n",
       "      <th>Low</th>\n",
       "      <th>Close</th>\n",
       "      <th>Adj Close</th>\n",
       "      <th>Volume</th>\n",
       "      <th>Date</th>\n",
       "    </tr>\n",
       "    <tr>\n",
       "      <th>Date</th>\n",
       "      <th></th>\n",
       "      <th></th>\n",
       "      <th></th>\n",
       "      <th></th>\n",
       "      <th></th>\n",
       "      <th></th>\n",
       "      <th></th>\n",
       "    </tr>\n",
       "  </thead>\n",
       "  <tbody>\n",
       "    <tr>\n",
       "      <th>2020-01-01</th>\n",
       "      <td>334.700012</td>\n",
       "      <td>335.950012</td>\n",
       "      <td>332.149994</td>\n",
       "      <td>334.450012</td>\n",
       "      <td>320.078278</td>\n",
       "      <td>17379320</td>\n",
       "      <td>2020-01-01</td>\n",
       "    </tr>\n",
       "    <tr>\n",
       "      <th>2020-01-02</th>\n",
       "      <td>334.500000</td>\n",
       "      <td>339.850006</td>\n",
       "      <td>333.350006</td>\n",
       "      <td>339.299988</td>\n",
       "      <td>324.719818</td>\n",
       "      <td>20324236</td>\n",
       "      <td>2020-01-02</td>\n",
       "    </tr>\n",
       "    <tr>\n",
       "      <th>2020-01-03</th>\n",
       "      <td>337.950012</td>\n",
       "      <td>337.950012</td>\n",
       "      <td>332.000000</td>\n",
       "      <td>333.700012</td>\n",
       "      <td>319.360474</td>\n",
       "      <td>21853208</td>\n",
       "      <td>2020-01-03</td>\n",
       "    </tr>\n",
       "    <tr>\n",
       "      <th>2020-01-06</th>\n",
       "      <td>331.700012</td>\n",
       "      <td>331.700012</td>\n",
       "      <td>317.700012</td>\n",
       "      <td>319.000000</td>\n",
       "      <td>305.292175</td>\n",
       "      <td>35645325</td>\n",
       "      <td>2020-01-06</td>\n",
       "    </tr>\n",
       "    <tr>\n",
       "      <th>2020-01-07</th>\n",
       "      <td>324.450012</td>\n",
       "      <td>327.000000</td>\n",
       "      <td>315.399994</td>\n",
       "      <td>318.399994</td>\n",
       "      <td>304.717926</td>\n",
       "      <td>50966826</td>\n",
       "      <td>2020-01-07</td>\n",
       "    </tr>\n",
       "    <tr>\n",
       "      <th>...</th>\n",
       "      <td>...</td>\n",
       "      <td>...</td>\n",
       "      <td>...</td>\n",
       "      <td>...</td>\n",
       "      <td>...</td>\n",
       "      <td>...</td>\n",
       "      <td>...</td>\n",
       "    </tr>\n",
       "    <tr>\n",
       "      <th>2022-12-26</th>\n",
       "      <td>574.000000</td>\n",
       "      <td>601.700012</td>\n",
       "      <td>570.700012</td>\n",
       "      <td>597.099976</td>\n",
       "      <td>585.718018</td>\n",
       "      <td>13201587</td>\n",
       "      <td>2022-12-26</td>\n",
       "    </tr>\n",
       "    <tr>\n",
       "      <th>2022-12-27</th>\n",
       "      <td>600.400024</td>\n",
       "      <td>603.099976</td>\n",
       "      <td>593.299988</td>\n",
       "      <td>601.900024</td>\n",
       "      <td>590.426575</td>\n",
       "      <td>9638618</td>\n",
       "      <td>2022-12-27</td>\n",
       "    </tr>\n",
       "    <tr>\n",
       "      <th>2022-12-28</th>\n",
       "      <td>600.900024</td>\n",
       "      <td>607.000000</td>\n",
       "      <td>598.549988</td>\n",
       "      <td>601.049988</td>\n",
       "      <td>589.592712</td>\n",
       "      <td>7988631</td>\n",
       "      <td>2022-12-28</td>\n",
       "    </tr>\n",
       "    <tr>\n",
       "      <th>2022-12-29</th>\n",
       "      <td>600.000000</td>\n",
       "      <td>618.000000</td>\n",
       "      <td>597.150024</td>\n",
       "      <td>611.799988</td>\n",
       "      <td>600.137817</td>\n",
       "      <td>20130392</td>\n",
       "      <td>2022-12-29</td>\n",
       "    </tr>\n",
       "    <tr>\n",
       "      <th>2022-12-30</th>\n",
       "      <td>615.250000</td>\n",
       "      <td>620.549988</td>\n",
       "      <td>611.349976</td>\n",
       "      <td>613.700012</td>\n",
       "      <td>602.001587</td>\n",
       "      <td>13052895</td>\n",
       "      <td>2022-12-30</td>\n",
       "    </tr>\n",
       "  </tbody>\n",
       "</table>\n",
       "<p>747 rows × 7 columns</p>\n",
       "</div>"
      ],
      "text/plain": [
       "                  Open        High         Low       Close   Adj Close  \\\n",
       "Date                                                                     \n",
       "2020-01-01  334.700012  335.950012  332.149994  334.450012  320.078278   \n",
       "2020-01-02  334.500000  339.850006  333.350006  339.299988  324.719818   \n",
       "2020-01-03  337.950012  337.950012  332.000000  333.700012  319.360474   \n",
       "2020-01-06  331.700012  331.700012  317.700012  319.000000  305.292175   \n",
       "2020-01-07  324.450012  327.000000  315.399994  318.399994  304.717926   \n",
       "...                ...         ...         ...         ...         ...   \n",
       "2022-12-26  574.000000  601.700012  570.700012  597.099976  585.718018   \n",
       "2022-12-27  600.400024  603.099976  593.299988  601.900024  590.426575   \n",
       "2022-12-28  600.900024  607.000000  598.549988  601.049988  589.592712   \n",
       "2022-12-29  600.000000  618.000000  597.150024  611.799988  600.137817   \n",
       "2022-12-30  615.250000  620.549988  611.349976  613.700012  602.001587   \n",
       "\n",
       "              Volume       Date  \n",
       "Date                             \n",
       "2020-01-01  17379320 2020-01-01  \n",
       "2020-01-02  20324236 2020-01-02  \n",
       "2020-01-03  21853208 2020-01-03  \n",
       "2020-01-06  35645325 2020-01-06  \n",
       "2020-01-07  50966826 2020-01-07  \n",
       "...              ...        ...  \n",
       "2022-12-26  13201587 2022-12-26  \n",
       "2022-12-27   9638618 2022-12-27  \n",
       "2022-12-28   7988631 2022-12-28  \n",
       "2022-12-29  20130392 2022-12-29  \n",
       "2022-12-30  13052895 2022-12-30  \n",
       "\n",
       "[747 rows x 7 columns]"
      ]
     },
     "execution_count": 87,
     "metadata": {},
     "output_type": "execute_result"
    }
   ],
   "source": [
    "data6"
   ]
  },
  {
   "cell_type": "code",
   "execution_count": 89,
   "id": "bce0f49c-49bf-4808-85e2-085acdac5f78",
   "metadata": {},
   "outputs": [
    {
     "ename": "TypeError",
     "evalue": "'DataFrame' object is not callable",
     "output_type": "error",
     "traceback": [
      "\u001b[1;31m---------------------------------------------------------------------------\u001b[0m",
      "\u001b[1;31mTypeError\u001b[0m                                 Traceback (most recent call last)",
      "Input \u001b[1;32mIn [89]\u001b[0m, in \u001b[0;36m<cell line: 2>\u001b[1;34m()\u001b[0m\n\u001b[0;32m      1\u001b[0m X\u001b[38;5;241m=\u001b[39mdata6\u001b[38;5;241m.\u001b[39mdrop(\u001b[38;5;124m'\u001b[39m\u001b[38;5;124mClose\u001b[39m\u001b[38;5;124m'\u001b[39m,axis\u001b[38;5;241m=\u001b[39m\u001b[38;5;241m1\u001b[39m)\n\u001b[1;32m----> 2\u001b[0m Y\u001b[38;5;241m=\u001b[39m\u001b[43mdata6\u001b[49m\u001b[43m(\u001b[49m\u001b[38;5;124;43m'\u001b[39;49m\u001b[38;5;124;43mClose\u001b[39;49m\u001b[38;5;124;43m'\u001b[39;49m\u001b[43m)\u001b[49m\n",
      "\u001b[1;31mTypeError\u001b[0m: 'DataFrame' object is not callable"
     ]
    }
   ],
   "source": [
    "X=data6.drop('Close',axis=1)\n",
    "Y=data6('Close')"
   ]
  }
 ],
 "metadata": {
  "kernelspec": {
   "display_name": "Python 3 (ipykernel)",
   "language": "python",
   "name": "python3"
  },
  "language_info": {
   "codemirror_mode": {
    "name": "ipython",
    "version": 3
   },
   "file_extension": ".py",
   "mimetype": "text/x-python",
   "name": "python",
   "nbconvert_exporter": "python",
   "pygments_lexer": "ipython3",
   "version": "3.10.0"
  }
 },
 "nbformat": 4,
 "nbformat_minor": 5
}
